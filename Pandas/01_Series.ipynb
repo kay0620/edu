{
 "cells": [
  {
   "cell_type": "markdown",
   "id": "02ea0e0e",
   "metadata": {},
   "source": [
    "# Series\n",
    "\n",
    "- 1차원 데이터\n",
    "- 정수, 실수, 문자열등\n",
    "- 인덱스를 포함"
   ]
  },
  {
   "cell_type": "code",
   "execution_count": 2,
   "id": "b5c5ff3a",
   "metadata": {},
   "outputs": [
    {
     "name": "stdout",
     "output_type": "stream",
     "text": [
      "Collecting pandas\n",
      "  Downloading pandas-2.0.2-cp311-cp311-win_amd64.whl (10.6 MB)\n",
      "                                              0.0/10.6 MB ? eta -:--:--\n",
      "     -                                        0.4/10.6 MB 12.9 MB/s eta 0:00:01\n",
      "     ---                                      0.9/10.6 MB 11.0 MB/s eta 0:00:01\n",
      "     -----                                    1.5/10.6 MB 10.4 MB/s eta 0:00:01\n",
      "     -------                                  1.9/10.6 MB 11.3 MB/s eta 0:00:01\n",
      "     ---------                                2.6/10.6 MB 11.1 MB/s eta 0:00:01\n",
      "     -----------                              3.2/10.6 MB 11.2 MB/s eta 0:00:01\n",
      "     --------------                           3.7/10.6 MB 11.3 MB/s eta 0:00:01\n",
      "     ----------------                         4.3/10.6 MB 11.4 MB/s eta 0:00:01\n",
      "     ------------------                       4.8/10.6 MB 11.4 MB/s eta 0:00:01\n",
      "     --------------------                     5.4/10.6 MB 11.4 MB/s eta 0:00:01\n",
      "     ----------------------                   5.9/10.6 MB 11.4 MB/s eta 0:00:01\n",
      "     ------------------------                 6.5/10.6 MB 11.5 MB/s eta 0:00:01\n",
      "     --------------------------               7.0/10.6 MB 11.5 MB/s eta 0:00:01\n",
      "     ----------------------------             7.5/10.6 MB 11.5 MB/s eta 0:00:01\n",
      "     ------------------------------           8.1/10.6 MB 11.5 MB/s eta 0:00:01\n",
      "     --------------------------------         8.6/10.6 MB 11.6 MB/s eta 0:00:01\n",
      "     ----------------------------------       9.1/10.6 MB 11.7 MB/s eta 0:00:01\n",
      "     ------------------------------------     9.7/10.6 MB 11.7 MB/s eta 0:00:01\n",
      "     -------------------------------------   10.2/10.6 MB 11.7 MB/s eta 0:00:01\n",
      "     --------------------------------------  10.6/10.6 MB 11.5 MB/s eta 0:00:01\n",
      "     --------------------------------------  10.6/10.6 MB 11.5 MB/s eta 0:00:01\n",
      "     --------------------------------------- 10.6/10.6 MB 10.6 MB/s eta 0:00:00\n",
      "Requirement already satisfied: python-dateutil>=2.8.2 in c:\\users\\administrator.공석\\appdata\\local\\programs\\python\\python311\\lib\\site-packages (from pandas) (2.8.2)\n",
      "Collecting pytz>=2020.1 (from pandas)\n",
      "  Downloading pytz-2023.3-py2.py3-none-any.whl (502 kB)\n",
      "                                              0.0/502.3 kB ? eta -:--:--\n",
      "     ------------------------------------  501.8/502.3 kB 15.9 MB/s eta 0:00:01\n",
      "     ------------------------------------- 502.3/502.3 kB 10.5 MB/s eta 0:00:00\n",
      "Collecting tzdata>=2022.1 (from pandas)\n",
      "  Downloading tzdata-2023.3-py2.py3-none-any.whl (341 kB)\n",
      "                                              0.0/341.8 kB ? eta -:--:--\n",
      "     ------------------------------------- 341.8/341.8 kB 10.4 MB/s eta 0:00:00\n",
      "Collecting numpy>=1.21.0 (from pandas)\n",
      "  Downloading numpy-1.24.3-cp311-cp311-win_amd64.whl (14.8 MB)\n",
      "                                              0.0/14.8 MB ? eta -:--:--\n",
      "     -                                        0.6/14.8 MB 12.4 MB/s eta 0:00:02\n",
      "     ---                                      1.2/14.8 MB 12.2 MB/s eta 0:00:02\n",
      "     ----                                     1.7/14.8 MB 12.1 MB/s eta 0:00:02\n",
      "     ------                                   2.2/14.8 MB 11.9 MB/s eta 0:00:02\n",
      "     -------                                  2.8/14.8 MB 11.8 MB/s eta 0:00:02\n",
      "     --------                                 3.3/14.8 MB 11.8 MB/s eta 0:00:01\n",
      "     ----------                               3.9/14.8 MB 11.8 MB/s eta 0:00:01\n",
      "     ------------                             4.6/14.8 MB 11.8 MB/s eta 0:00:01\n",
      "     -------------                            5.1/14.8 MB 11.6 MB/s eta 0:00:01\n",
      "     ---------------                          5.6/14.8 MB 11.6 MB/s eta 0:00:01\n",
      "     ----------------                         6.2/14.8 MB 11.6 MB/s eta 0:00:01\n",
      "     -----------------                        6.5/14.8 MB 11.8 MB/s eta 0:00:01\n",
      "     -------------------                      7.3/14.8 MB 11.6 MB/s eta 0:00:01\n",
      "     ---------------------                    7.8/14.8 MB 11.9 MB/s eta 0:00:01\n",
      "     ---------------------                    8.0/14.8 MB 11.6 MB/s eta 0:00:01\n",
      "     -----------------------                  8.9/14.8 MB 11.9 MB/s eta 0:00:01\n",
      "     -------------------------                9.5/14.8 MB 11.8 MB/s eta 0:00:01\n",
      "     --------------------------              10.0/14.8 MB 11.8 MB/s eta 0:00:01\n",
      "     ---------------------------             10.6/14.8 MB 11.9 MB/s eta 0:00:01\n",
      "     -----------------------------           11.1/14.8 MB 11.9 MB/s eta 0:00:01\n",
      "     ------------------------------          11.6/14.8 MB 11.9 MB/s eta 0:00:01\n",
      "     -------------------------------         12.2/14.8 MB 11.7 MB/s eta 0:00:01\n",
      "     ---------------------------------       12.7/14.8 MB 11.7 MB/s eta 0:00:01\n",
      "     ----------------------------------      13.2/14.8 MB 11.7 MB/s eta 0:00:01\n",
      "     ------------------------------------    13.8/14.8 MB 11.9 MB/s eta 0:00:01\n",
      "     ------------------------------------    14.0/14.8 MB 11.5 MB/s eta 0:00:01\n",
      "     --------------------------------------  14.8/14.8 MB 11.7 MB/s eta 0:00:01\n",
      "     --------------------------------------  14.8/14.8 MB 11.7 MB/s eta 0:00:01\n",
      "     --------------------------------------- 14.8/14.8 MB 10.6 MB/s eta 0:00:00\n",
      "Requirement already satisfied: six>=1.5 in c:\\users\\administrator.공석\\appdata\\local\\programs\\python\\python311\\lib\\site-packages (from python-dateutil>=2.8.2->pandas) (1.16.0)\n",
      "Installing collected packages: pytz, tzdata, numpy, pandas\n",
      "Successfully installed numpy-1.24.3 pandas-2.0.2 pytz-2023.3 tzdata-2023.3\n"
     ]
    }
   ],
   "source": [
    "!pip install pandas"
   ]
  },
  {
   "cell_type": "markdown",
   "id": "0d3a5c9e",
   "metadata": {},
   "source": [
    "### 객체생성"
   ]
  },
  {
   "cell_type": "code",
   "execution_count": 3,
   "id": "0c70c521",
   "metadata": {},
   "outputs": [
    {
     "data": {
      "text/plain": [
       "0   -20\n",
       "1   -10\n",
       "2    10\n",
       "3    20\n",
       "dtype: int64"
      ]
     },
     "execution_count": 3,
     "metadata": {},
     "output_type": "execute_result"
    }
   ],
   "source": [
    "import pandas as pd\n",
    "\n",
    "#1월부터 4월까지 평균 온도 데이터\n",
    "data = [-20,-10,10,20]\n",
    "\n",
    "s = pd.Series(data)\n",
    "s"
   ]
  },
  {
   "cell_type": "code",
   "execution_count": 8,
   "id": "06b677a5",
   "metadata": {},
   "outputs": [
    {
     "data": {
      "text/plain": [
       "10"
      ]
     },
     "execution_count": 8,
     "metadata": {},
     "output_type": "execute_result"
    }
   ],
   "source": [
    "s[0] #1월의 온도\n",
    "s[2] #3월의 온도"
   ]
  },
  {
   "cell_type": "markdown",
   "id": "7ac014a4",
   "metadata": {},
   "source": [
    "### 인덱스 지정"
   ]
  },
  {
   "cell_type": "code",
   "execution_count": 9,
   "id": "911a57a0",
   "metadata": {},
   "outputs": [
    {
     "data": {
      "text/plain": [
       "Jan   -20\n",
       "Feb   -10\n",
       "Mar    10\n",
       "Apr    20\n",
       "dtype: int64"
      ]
     },
     "execution_count": 9,
     "metadata": {},
     "output_type": "execute_result"
    }
   ],
   "source": [
    "s = pd.Series(data, index = ['Jan','Feb','Mar','Apr'])\n",
    "s"
   ]
  },
  {
   "cell_type": "code",
   "execution_count": 10,
   "id": "36836002",
   "metadata": {},
   "outputs": [
    {
     "name": "stdout",
     "output_type": "stream",
     "text": [
      "-20\n",
      "10\n"
     ]
    }
   ],
   "source": [
    "print(s['Jan'])  #1월의 온도\n",
    "print(s['Mar']) #3월의 온도"
   ]
  },
  {
   "cell_type": "markdown",
   "id": "21ba09f8",
   "metadata": {},
   "source": [
    "### Series 확인\n"
   ]
  },
  {
   "cell_type": "code",
   "execution_count": 11,
   "id": "abdf74ed",
   "metadata": {},
   "outputs": [
    {
     "data": {
      "text/plain": [
       "array([-20, -10,  10,  20], dtype=int64)"
      ]
     },
     "execution_count": 11,
     "metadata": {},
     "output_type": "execute_result"
    }
   ],
   "source": [
    "#값만 확인\n",
    "s.values"
   ]
  },
  {
   "cell_type": "code",
   "execution_count": 12,
   "id": "d0110ac0",
   "metadata": {},
   "outputs": [
    {
     "data": {
      "text/plain": [
       "Index(['Jan', 'Feb', 'Mar', 'Apr'], dtype='object')"
      ]
     },
     "execution_count": 12,
     "metadata": {},
     "output_type": "execute_result"
    }
   ],
   "source": [
    "#인덱스만 확인\n",
    "s.index"
   ]
  },
  {
   "cell_type": "code",
   "execution_count": 13,
   "id": "7a42f9ab",
   "metadata": {},
   "outputs": [
    {
     "data": {
      "text/plain": [
       "pandas.core.series.Series"
      ]
     },
     "execution_count": 13,
     "metadata": {},
     "output_type": "execute_result"
    }
   ],
   "source": [
    "type(s)"
   ]
  },
  {
   "cell_type": "code",
   "execution_count": 14,
   "id": "e6f7450e",
   "metadata": {},
   "outputs": [
    {
     "data": {
      "text/plain": [
       "dtype('int64')"
      ]
     },
     "execution_count": 14,
     "metadata": {},
     "output_type": "execute_result"
    }
   ],
   "source": [
    "#데이터들의 자료형 확인\n",
    "s.dtypes"
   ]
  },
  {
   "cell_type": "code",
   "execution_count": null,
   "id": "43a33562",
   "metadata": {},
   "outputs": [],
   "source": []
  }
 ],
 "metadata": {
  "kernelspec": {
   "display_name": "Python 3 (ipykernel)",
   "language": "python",
   "name": "python3"
  },
  "language_info": {
   "codemirror_mode": {
    "name": "ipython",
    "version": 3
   },
   "file_extension": ".py",
   "mimetype": "text/x-python",
   "name": "python",
   "nbconvert_exporter": "python",
   "pygments_lexer": "ipython3",
   "version": "3.11.3"
  }
 },
 "nbformat": 4,
 "nbformat_minor": 5
}
