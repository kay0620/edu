#folium 주피터에서 설치
!pip install folium

import folium

#부산 위도, 경도 설정
m = folium.Map(location = [35.1795543,129.0756416])
m
