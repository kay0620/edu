{
 "cells": [
  {
   "attachments": {},
   "cell_type": "markdown",
   "id": "9fdc8dc6",
   "metadata": {},
   "source": [
    "# 지오코딩 (geocoding)\n",
    "\n",
    "- 주소, 산, 호수등의 위도와 경도의 좌표값을 얻을수 있다\n",
    "- 카카오 API 사용\n",
    "\n"
   ]
  },
  {
   "cell_type": "code",
   "execution_count": 18,
   "id": "76a753d3",
   "metadata": {},
   "outputs": [],
   "source": [
    "import requests\n",
    "\n",
    "api_key = ''\n",
    "header = {'Authorization': 'KakaoAK ' + api_key}\n",
    "\n",
    "url_header = 'https://dapi.kakao.com/v2/local/search/address.json?query='\n",
    "url = url_header + '부산시 연제구 명륜로 10'\n",
    "\n",
    "r = requests.get(url, headers = header)\n",
    "\n",
    "latitude = r.json()['documents'][0]['address']['y']\n",
    "longitude = r.json()['documents'][0]['address']['x']\n"
   ]
  },
  {
   "cell_type": "code",
   "execution_count": 19,
   "id": "d26ac25a",
   "metadata": {
    "collapsed": true
   },
   "outputs": [
    {
     "data": {
      "text/html": [
       "<div style=\"width:100%;\"><div style=\"position:relative;width:100%;height:0;padding-bottom:60%;\"><span style=\"color:#565656\">Make this Notebook Trusted to load map: File -> Trust Notebook</span><iframe srcdoc=\"&lt;!DOCTYPE html&gt;\n",
       "&lt;html&gt;\n",
       "&lt;head&gt;\n",
       "    \n",
       "    &lt;meta http-equiv=&quot;content-type&quot; content=&quot;text/html; charset=UTF-8&quot; /&gt;\n",
       "    \n",
       "        &lt;script&gt;\n",
       "            L_NO_TOUCH = false;\n",
       "            L_DISABLE_3D = false;\n",
       "        &lt;/script&gt;\n",
       "    \n",
       "    &lt;style&gt;html, body {width: 100%;height: 100%;margin: 0;padding: 0;}&lt;/style&gt;\n",
       "    &lt;style&gt;#map {position:absolute;top:0;bottom:0;right:0;left:0;}&lt;/style&gt;\n",
       "    &lt;script src=&quot;https://cdn.jsdelivr.net/npm/leaflet@1.9.3/dist/leaflet.js&quot;&gt;&lt;/script&gt;\n",
       "    &lt;script src=&quot;https://code.jquery.com/jquery-1.12.4.min.js&quot;&gt;&lt;/script&gt;\n",
       "    &lt;script src=&quot;https://cdn.jsdelivr.net/npm/bootstrap@5.2.2/dist/js/bootstrap.bundle.min.js&quot;&gt;&lt;/script&gt;\n",
       "    &lt;script src=&quot;https://cdnjs.cloudflare.com/ajax/libs/Leaflet.awesome-markers/2.0.2/leaflet.awesome-markers.js&quot;&gt;&lt;/script&gt;\n",
       "    &lt;link rel=&quot;stylesheet&quot; href=&quot;https://cdn.jsdelivr.net/npm/leaflet@1.9.3/dist/leaflet.css&quot;/&gt;\n",
       "    &lt;link rel=&quot;stylesheet&quot; href=&quot;https://cdn.jsdelivr.net/npm/bootstrap@5.2.2/dist/css/bootstrap.min.css&quot;/&gt;\n",
       "    &lt;link rel=&quot;stylesheet&quot; href=&quot;https://netdna.bootstrapcdn.com/bootstrap/3.0.0/css/bootstrap.min.css&quot;/&gt;\n",
       "    &lt;link rel=&quot;stylesheet&quot; href=&quot;https://cdn.jsdelivr.net/npm/@fortawesome/fontawesome-free@6.2.0/css/all.min.css&quot;/&gt;\n",
       "    &lt;link rel=&quot;stylesheet&quot; href=&quot;https://cdnjs.cloudflare.com/ajax/libs/Leaflet.awesome-markers/2.0.2/leaflet.awesome-markers.css&quot;/&gt;\n",
       "    &lt;link rel=&quot;stylesheet&quot; href=&quot;https://cdn.jsdelivr.net/gh/python-visualization/folium/folium/templates/leaflet.awesome.rotate.min.css&quot;/&gt;\n",
       "    \n",
       "            &lt;meta name=&quot;viewport&quot; content=&quot;width=device-width,\n",
       "                initial-scale=1.0, maximum-scale=1.0, user-scalable=no&quot; /&gt;\n",
       "            &lt;style&gt;\n",
       "                #map_7cacfc50e0e7cb3ea441a2ee3a9f8684 {\n",
       "                    position: relative;\n",
       "                    width: 100.0%;\n",
       "                    height: 100.0%;\n",
       "                    left: 0.0%;\n",
       "                    top: 0.0%;\n",
       "                }\n",
       "                .leaflet-container { font-size: 1rem; }\n",
       "            &lt;/style&gt;\n",
       "        \n",
       "&lt;/head&gt;\n",
       "&lt;body&gt;\n",
       "    \n",
       "    \n",
       "            &lt;div class=&quot;folium-map&quot; id=&quot;map_7cacfc50e0e7cb3ea441a2ee3a9f8684&quot; &gt;&lt;/div&gt;\n",
       "        \n",
       "&lt;/body&gt;\n",
       "&lt;script&gt;\n",
       "    \n",
       "    \n",
       "            var map_7cacfc50e0e7cb3ea441a2ee3a9f8684 = L.map(\n",
       "                &quot;map_7cacfc50e0e7cb3ea441a2ee3a9f8684&quot;,\n",
       "                {\n",
       "                    center: [35.19600417088537, 129.0815799388583],\n",
       "                    crs: L.CRS.EPSG3857,\n",
       "                    zoom: 15,\n",
       "                    zoomControl: true,\n",
       "                    preferCanvas: false,\n",
       "                }\n",
       "            );\n",
       "\n",
       "            \n",
       "\n",
       "        \n",
       "    \n",
       "            var tile_layer_a01fd826d8d68e532f7afd16b5969547 = L.tileLayer(\n",
       "                &quot;https://{s}.tile.openstreetmap.org/{z}/{x}/{y}.png&quot;,\n",
       "                {&quot;attribution&quot;: &quot;Data by \\u0026copy; \\u003ca target=\\&quot;_blank\\&quot; href=\\&quot;http://openstreetmap.org\\&quot;\\u003eOpenStreetMap\\u003c/a\\u003e, under \\u003ca target=\\&quot;_blank\\&quot; href=\\&quot;http://www.openstreetmap.org/copyright\\&quot;\\u003eODbL\\u003c/a\\u003e.&quot;, &quot;detectRetina&quot;: false, &quot;maxNativeZoom&quot;: 18, &quot;maxZoom&quot;: 18, &quot;minZoom&quot;: 0, &quot;noWrap&quot;: false, &quot;opacity&quot;: 1, &quot;subdomains&quot;: &quot;abc&quot;, &quot;tms&quot;: false}\n",
       "            ).addTo(map_7cacfc50e0e7cb3ea441a2ee3a9f8684);\n",
       "        \n",
       "    \n",
       "            var marker_5dc15380f77504bd6eb83acb8bc592a0 = L.marker(\n",
       "                [35.1959818829391, 129.081497802638],\n",
       "                {}\n",
       "            ).addTo(map_7cacfc50e0e7cb3ea441a2ee3a9f8684);\n",
       "        \n",
       "    \n",
       "            var icon_4ac154920a81dbc8e9373f9c1c160d21 = L.AwesomeMarkers.icon(\n",
       "                {&quot;extraClasses&quot;: &quot;fa-rotate-0&quot;, &quot;icon&quot;: &quot;thumbs-up&quot;, &quot;iconColor&quot;: &quot;white&quot;, &quot;markerColor&quot;: &quot;red&quot;, &quot;prefix&quot;: &quot;glyphicon&quot;}\n",
       "            );\n",
       "            marker_5dc15380f77504bd6eb83acb8bc592a0.setIcon(icon_4ac154920a81dbc8e9373f9c1c160d21);\n",
       "        \n",
       "    \n",
       "        var popup_1fd889c80052deb5b7de76ee0d8ce05c = L.popup({&quot;maxWidth&quot;: 100, &quot;minWidth&quot;: 50});\n",
       "\n",
       "        \n",
       "            \n",
       "                var html_cbbf395777ae3117e96f86642140a586 = $(`&lt;div id=&quot;html_cbbf395777ae3117e96f86642140a586&quot; style=&quot;width: 100.0%; height: 100.0%;&quot;&gt;KPC&lt;br&gt; 서부산&lt;/div&gt;`)[0];\n",
       "                popup_1fd889c80052deb5b7de76ee0d8ce05c.setContent(html_cbbf395777ae3117e96f86642140a586);\n",
       "            \n",
       "        \n",
       "\n",
       "        marker_5dc15380f77504bd6eb83acb8bc592a0.bindPopup(popup_1fd889c80052deb5b7de76ee0d8ce05c)\n",
       "        ;\n",
       "\n",
       "        \n",
       "    \n",
       "    \n",
       "            marker_5dc15380f77504bd6eb83acb8bc592a0.bindTooltip(\n",
       "                `&lt;div&gt;\n",
       "                     Click me\n",
       "                 &lt;/div&gt;`,\n",
       "                {&quot;sticky&quot;: true}\n",
       "            );\n",
       "        \n",
       "&lt;/script&gt;\n",
       "&lt;/html&gt;\" style=\"position:absolute;width:100%;height:100%;left:0;top:0;border:none !important;\" allowfullscreen webkitallowfullscreen mozallowfullscreen></iframe></div></div>"
      ],
      "text/plain": [
       "<folium.folium.Map at 0x217d28ea390>"
      ]
     },
     "execution_count": 19,
     "metadata": {},
     "output_type": "execute_result"
    }
   ],
   "source": [
    "import folium\n",
    "m = folium.Map(location = [35.19600417088537, 129.0815799388583],zoom_start=15)\n",
    "\n",
    "folium.Marker([latitude, longitude],\n",
    "              icon = folium.Icon(icon = 'thumbs-up', color ='red'),\n",
    "              tooltip = 'Click me',\n",
    "              popup = folium.Popup('KPC<br> 서부산', min_width = 50, max_width = 100)\n",
    "             ).add_to(m)\n",
    "\n",
    "m"
   ]
  },
  {
   "attachments": {},
   "cell_type": "markdown",
   "id": "44fbf8c2",
   "metadata": {},
   "source": [
    "### 함수로 구현\n"
   ]
  },
  {
   "cell_type": "code",
   "execution_count": 22,
   "id": "a7de5c55",
   "metadata": {},
   "outputs": [],
   "source": [
    "import requests\n",
    "\n",
    "def getGeoCoder(address):\n",
    "    result = ''\n",
    "    \n",
    "    api_key = ''\n",
    "    header = {'Authorization': 'KakaoAK ' + api_key}\n",
    "\n",
    "    url_header = 'https://dapi.kakao.com/v2/local/search/address.json?query='\n",
    "    url = url_header + address\n",
    "    \n",
    "    r = requests.get(url, headers= header)\n",
    "    \n",
    "    if r.status_code == 200:\n",
    "        try:\n",
    "            result_address = r.json()['documents'][0]['address']\n",
    "            result = result_address['y'], result_address['x']\n",
    "        except Exception as err:\n",
    "            return None\n",
    "    else:\n",
    "        result = 'ERROR[' + str(r.status_code) + ']'\n",
    "    \n",
    "    return result"
   ]
  },
  {
   "cell_type": "code",
   "execution_count": 23,
   "id": "0a09dc17",
   "metadata": {},
   "outputs": [
    {
     "data": {
      "text/plain": [
       "('35.1959818829391', '129.081497802638')"
      ]
     },
     "execution_count": 23,
     "metadata": {},
     "output_type": "execute_result"
    }
   ],
   "source": [
    "getGeoCoder('부산시 연제구 명륜로 10')"
   ]
  },
  {
   "cell_type": "code",
   "execution_count": null,
   "id": "3080e5e1",
   "metadata": {},
   "outputs": [],
   "source": []
  },
  {
   "cell_type": "code",
   "execution_count": null,
   "id": "77ae00d2",
   "metadata": {},
   "outputs": [],
   "source": []
  },
  {
   "cell_type": "code",
   "execution_count": null,
   "id": "439570b9",
   "metadata": {},
   "outputs": [],
   "source": []
  },
  {
   "cell_type": "code",
   "execution_count": null,
   "id": "6499420c",
   "metadata": {},
   "outputs": [],
   "source": []
  },
  {
   "cell_type": "code",
   "execution_count": null,
   "id": "4ad93768",
   "metadata": {},
   "outputs": [],
   "source": []
  }
 ],
 "metadata": {
  "kernelspec": {
   "display_name": "Python 3 (ipykernel)",
   "language": "python",
   "name": "python3"
  },
  "language_info": {
   "codemirror_mode": {
    "name": "ipython",
    "version": 3
   },
   "file_extension": ".py",
   "mimetype": "text/x-python",
   "name": "python",
   "nbconvert_exporter": "python",
   "pygments_lexer": "ipython3",
   "version": "3.11.3"
  }
 },
 "nbformat": 4,
 "nbformat_minor": 5
}
