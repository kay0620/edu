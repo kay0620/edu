{
 "cells": [
  {
   "cell_type": "markdown",
   "id": "a735e632",
   "metadata": {},
   "source": [
    "# Selenium\n",
    "\n",
    "웹 브라우저를 자동화 하기 위한 도구\n",
    "페이지이동, 클릭, 텍스트 입력"
   ]
  },
  {
   "cell_type": "code",
   "execution_count": 1,
   "id": "7e1bf98c",
   "metadata": {
    "collapsed": true
   },
   "outputs": [
    {
     "name": "stdout",
     "output_type": "stream",
     "text": [
      "Requirement already satisfied: selenium in c:\\users\\a\\appdata\\local\\programs\\python\\python310\\lib\\site-packages (4.4.3)\n",
      "Requirement already satisfied: urllib3[socks]~=1.26 in c:\\users\\a\\appdata\\local\\programs\\python\\python310\\lib\\site-packages (from selenium) (1.26.11)\n",
      "Requirement already satisfied: trio~=0.17 in c:\\users\\a\\appdata\\local\\programs\\python\\python310\\lib\\site-packages (from selenium) (0.21.0)\n",
      "Requirement already satisfied: trio-websocket~=0.9 in c:\\users\\a\\appdata\\local\\programs\\python\\python310\\lib\\site-packages (from selenium) (0.9.2)\n",
      "Requirement already satisfied: certifi>=2021.10.8 in c:\\users\\a\\appdata\\local\\programs\\python\\python310\\lib\\site-packages (from selenium) (2022.6.15)\n",
      "Requirement already satisfied: attrs>=19.2.0 in c:\\users\\a\\appdata\\local\\programs\\python\\python310\\lib\\site-packages (from trio~=0.17->selenium) (21.4.0)\n",
      "Requirement already satisfied: sortedcontainers in c:\\users\\a\\appdata\\local\\programs\\python\\python310\\lib\\site-packages (from trio~=0.17->selenium) (2.4.0)\n",
      "Requirement already satisfied: async-generator>=1.9 in c:\\users\\a\\appdata\\local\\programs\\python\\python310\\lib\\site-packages (from trio~=0.17->selenium) (1.10)\n",
      "Requirement already satisfied: idna in c:\\users\\a\\appdata\\local\\programs\\python\\python310\\lib\\site-packages (from trio~=0.17->selenium) (3.3)\n",
      "Requirement already satisfied: outcome in c:\\users\\a\\appdata\\local\\programs\\python\\python310\\lib\\site-packages (from trio~=0.17->selenium) (1.2.0)\n",
      "Requirement already satisfied: sniffio in c:\\users\\a\\appdata\\local\\programs\\python\\python310\\lib\\site-packages (from trio~=0.17->selenium) (1.2.0)\n",
      "Requirement already satisfied: cffi>=1.14 in c:\\users\\a\\appdata\\local\\programs\\python\\python310\\lib\\site-packages (from trio~=0.17->selenium) (1.15.1)\n",
      "Requirement already satisfied: wsproto>=0.14 in c:\\users\\a\\appdata\\local\\programs\\python\\python310\\lib\\site-packages (from trio-websocket~=0.9->selenium) (1.2.0)\n",
      "Requirement already satisfied: PySocks!=1.5.7,<2.0,>=1.5.6 in c:\\users\\a\\appdata\\local\\programs\\python\\python310\\lib\\site-packages (from urllib3[socks]~=1.26->selenium) (1.7.1)\n",
      "Requirement already satisfied: pycparser in c:\\users\\a\\appdata\\local\\programs\\python\\python310\\lib\\site-packages (from cffi>=1.14->trio~=0.17->selenium) (2.21)\n",
      "Requirement already satisfied: h11<1,>=0.9.0 in c:\\users\\a\\appdata\\local\\programs\\python\\python310\\lib\\site-packages (from wsproto>=0.14->trio-websocket~=0.9->selenium) (0.13.0)\n"
     ]
    }
   ],
   "source": [
    "!pip install selenium"
   ]
  },
  {
   "cell_type": "code",
   "execution_count": 3,
   "id": "e1142379",
   "metadata": {},
   "outputs": [],
   "source": [
    "from selenium import webdriver\n",
    "\n",
    "driver = webdriver.Chrome()\n",
    "driver.get('http://google.com')"
   ]
  },
  {
   "cell_type": "code",
   "execution_count": 4,
   "id": "66ab247b",
   "metadata": {},
   "outputs": [],
   "source": [
    "driver.fullscreen_window()\n",
    "driver.maximize_window()"
   ]
  },
  {
   "cell_type": "code",
   "execution_count": 6,
   "id": "50ad231d",
   "metadata": {},
   "outputs": [
    {
     "data": {
      "text/plain": [
       "{'height': 500, 'width': 515, 'x': 100, 'y': 100}"
      ]
     },
     "execution_count": 6,
     "metadata": {},
     "output_type": "execute_result"
    }
   ],
   "source": [
    "driver.set_window_rect(100,100,500,500)"
   ]
  },
  {
   "cell_type": "code",
   "execution_count": 8,
   "id": "cdcfe3dd",
   "metadata": {},
   "outputs": [],
   "source": [
    "driver.get('http://naver.com')\n",
    "driver.get('http://youtube.com')"
   ]
  },
  {
   "cell_type": "code",
   "execution_count": 11,
   "id": "d1f1fc3e",
   "metadata": {},
   "outputs": [],
   "source": [
    "driver.back()"
   ]
  },
  {
   "cell_type": "code",
   "execution_count": 14,
   "id": "fe1e6d5c",
   "metadata": {},
   "outputs": [],
   "source": [
    "driver.forward()"
   ]
  },
  {
   "cell_type": "code",
   "execution_count": 16,
   "id": "0912fa54",
   "metadata": {},
   "outputs": [],
   "source": [
    "driver.refresh()"
   ]
  },
  {
   "cell_type": "code",
   "execution_count": 17,
   "id": "2ffd692e",
   "metadata": {},
   "outputs": [],
   "source": [
    "driver.quit()"
   ]
  },
  {
   "cell_type": "markdown",
   "id": "a0e6378b",
   "metadata": {},
   "source": [
    "### 구글 gmail 버튼 클릭하기"
   ]
  },
  {
   "cell_type": "code",
   "execution_count": 18,
   "id": "b7192037",
   "metadata": {},
   "outputs": [],
   "source": [
    "from selenium import webdriver\n",
    "\n",
    "driver = webdriver.Chrome()\n",
    "driver.get('http://google.com')"
   ]
  },
  {
   "cell_type": "code",
   "execution_count": 19,
   "id": "bfcad79c",
   "metadata": {},
   "outputs": [],
   "source": [
    "from selenium.webdriver.common.by import By\n",
    "elem = driver.find_element(By.CLASS_NAME, 'gb_v')\n",
    "elem.click()"
   ]
  },
  {
   "cell_type": "markdown",
   "id": "b12a9844",
   "metadata": {},
   "source": [
    "### 구글 검색"
   ]
  },
  {
   "cell_type": "code",
   "execution_count": 21,
   "id": "91a0f18d",
   "metadata": {},
   "outputs": [],
   "source": [
    "search_box = driver.find_element(By.ID, 'APjFqb')\n",
    "search_box.send_keys('파이썬')"
   ]
  },
  {
   "cell_type": "code",
   "execution_count": 22,
   "id": "c0fc69b8",
   "metadata": {},
   "outputs": [],
   "source": [
    "from selenium.webdriver.common.keys import Keys\n",
    "search_box.send_keys(Keys.ENTER)"
   ]
  },
  {
   "cell_type": "code",
   "execution_count": 29,
   "id": "7aca1d2e",
   "metadata": {},
   "outputs": [
    {
     "name": "stdout",
     "output_type": "stream",
     "text": [
      "Python - 나무위키namu.wikihttps://namu.wiki › Python\n",
      "https://namu.wiki/w/Python\n",
      "파이썬 자습서 — Python 3.11.4 문서python.orghttps://docs.python.org › tutorial\n",
      "https://docs.python.org/ko/3/tutorial/index.html\n",
      "파이썬 - 위키백과, 우리 모두의 백과사전wikipedia.orghttps://ko.wikipedia.org › wiki › 파이썬\n",
      "https://ko.wikipedia.org/wiki/%ED%8C%8C%EC%9D%B4%EC%8D%AC\n",
      "01-4 파이썬 설치하기wikidocs.nethttps://www.wikidocs.net › ...\n",
      "https://www.wikidocs.net/8\n",
      "1.1 파이썬 맛보기 - 왕초보를 위한 Python: 쉽게 풀어 쓴 기초 ...https://wikidocs.net › ...\n",
      "https://wikidocs.net/51\n",
      "4) 파이썬이란?https://wikidocs.net › ...\n",
      "https://wikidocs.net/2823\n",
      "Python란 무엇인가요? - Python 언어 설명 - Amazon AWSamazon.comhttps://aws.amazon.com › ... › 개발자 도구\n",
      "https://aws.amazon.com/ko/what-is/python/\n",
      "저장된 페이지\n",
      "https://webcache.googleusercontent.com/search?q=cache:8nsM7uMNWi0J:https://aws.amazon.com/ko/what-is/python/&cd=17&hl=ko&ct=clnk&gl=kr\n",
      "01-2 파이썬의 특징wikidocs.nethttps://wikidocs.net › ...\n",
      "https://wikidocs.net/6\n",
      "[Python] Python이란? - Maker's VAP - 티스토리tistory.comhttps://asummerz.tistory.com › ...\n",
      "https://asummerz.tistory.com/39\n",
      "파이썬 코딩을 시작하기 좋은 쉬운 아이디어들 - freeCodeCampfreecodecamp.orghttps://www.freecodecamp.org › korean › news › pyth...\n",
      "https://www.freecodecamp.org/korean/news/python-projects-for-beginners/\n",
      "1 장 파이썬(Python) 입문 | 파이썬 프로그래밍 기초dongguk.ac.krhttp://bigdata.dongguk.ac.kr › Python › _book › 파이...\n",
      "http://bigdata.dongguk.ac.kr/lectures/Python/_book/%ED%8C%8C%EC%9D%B4%EC%8D%AC%EC%9E%85%EB%AC%B8.html\n",
      "1) 파이썬 개요 - 코딩의 시작, TCP Schooltcpschool.comhttp://www.tcpschool.com › python2018 › intro\n",
      "http://www.tcpschool.com/python2018/intro\n",
      "Python란 무엇인가요? - Python 언어 설명 - Amazon AWSamazon.comhttps://aws.amazon.com › ... › 개발자 도구\n",
      "https://aws.amazon.com/ko/what-is/python/\n"
     ]
    }
   ],
   "source": [
    "elem = driver.find_elements(By.CSS_SELECTOR, '.yuRUbf a')\n",
    "\n",
    "for e in elem:\n",
    "    print(e.get_property('textContent'))\n",
    "    print(e.get_attribute('href'))\n",
    "    "
   ]
  },
  {
   "cell_type": "code",
   "execution_count": 31,
   "id": "7e5b6b9c",
   "metadata": {},
   "outputs": [],
   "source": [
    "elem[0].click()"
   ]
  },
  {
   "cell_type": "code",
   "execution_count": 32,
   "id": "4337c333",
   "metadata": {},
   "outputs": [],
   "source": [
    "driver.quit()"
   ]
  },
  {
   "cell_type": "code",
   "execution_count": null,
   "id": "1e2615c8",
   "metadata": {},
   "outputs": [],
   "source": []
  }
 ],
 "metadata": {
  "kernelspec": {
   "display_name": "Python 3 (ipykernel)",
   "language": "python",
   "name": "python3"
  },
  "language_info": {
   "codemirror_mode": {
    "name": "ipython",
    "version": 3
   },
   "file_extension": ".py",
   "mimetype": "text/x-python",
   "name": "python",
   "nbconvert_exporter": "python",
   "pygments_lexer": "ipython3",
   "version": "3.10.5"
  }
 },
 "nbformat": 4,
 "nbformat_minor": 5
}
