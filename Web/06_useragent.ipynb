{
 "cells": [
  {
   "cell_type": "markdown",
   "id": "765d29bd",
   "metadata": {},
   "source": [
    "# User agent\n",
    "\n",
    "클라이언트를 식별하기 위해 사용되는 문자열"
   ]
  },
  {
   "cell_type": "code",
   "execution_count": 4,
   "id": "71bb6c21",
   "metadata": {},
   "outputs": [
    {
     "name": "stdout",
     "output_type": "stream",
     "text": [
      "<!doctype html>\n",
      "<html>\n",
      "<head>\n",
      "    <title>Example Domain</title>\n",
      "\n",
      "    <meta charset=\"utf-8\" />\n",
      "    <meta http-equiv=\"Content-type\" content=\"text/html; charset=utf-8\" />\n",
      "    <meta name=\"viewport\" content=\"width=device-width, initial-scale=1\" />\n",
      "    <style type=\"text/css\">\n",
      "    body {\n",
      "        background-color: #f0f0f2;\n",
      "        margin: 0;\n",
      "        padding: 0;\n",
      "        font-family: -apple-system, system-ui, BlinkMacSystemFont, \"Segoe UI\", \"Open Sans\", \"Helvetica Neue\", Helvetica, Arial, sans-serif;\n",
      "        \n",
      "    }\n",
      "    div {\n",
      "        width: 600px;\n",
      "        margin: 5em auto;\n",
      "        padding: 2em;\n",
      "        background-color: #fdfdff;\n",
      "        border-radius: 0.5em;\n",
      "        box-shadow: 2px 3px 7px 2px rgba(0,0,0,0.02);\n",
      "    }\n",
      "    a:link, a:visited {\n",
      "        color: #38488f;\n",
      "        text-decoration: none;\n",
      "    }\n",
      "    @media (max-width: 700px) {\n",
      "        div {\n",
      "            margin: 0 auto;\n",
      "            width: auto;\n",
      "        }\n",
      "    }\n",
      "    </style>    \n",
      "</head>\n",
      "\n",
      "<body>\n",
      "<div>\n",
      "    <h1>Example Domain</h1>\n",
      "    <p>This domain is for use in illustrative examples in documents. You may use this\n",
      "    domain in literature without prior coordination or asking for permission.</p>\n",
      "    <p><a href=\"https://www.iana.org/domains/example\">More information...</a></p>\n",
      "</div>\n",
      "</body>\n",
      "</html>\n",
      "\n"
     ]
    }
   ],
   "source": [
    "import requests\n",
    "\n",
    "url = 'https://www.example.com'\n",
    "\n",
    "headers = {'User-Agent':'Mozilla/5.0 (Windows NT 10.0; Win64; x64) AppleWebKit/537.36 (KHTML, like Gecko) Chrome/114.0.0.0 Safari/537.36'}\n",
    "\n",
    "re = requests.get(url,headers = headers)\n",
    "print(re.text)\n"
   ]
  },
  {
   "cell_type": "markdown",
   "id": "861d84e9",
   "metadata": {},
   "source": [
    "# 구글 영화"
   ]
  },
  {
   "cell_type": "code",
   "execution_count": 23,
   "id": "f6350efe",
   "metadata": {},
   "outputs": [
    {
     "name": "stdout",
     "output_type": "stream",
     "text": [
      "<div class=\"Epkrse\">The Machine</div> <span class=\"VfPpfd VixbEe\"><span>$19.99</span></span>\n"
     ]
    }
   ],
   "source": [
    "import requests\n",
    "from bs4 import BeautifulSoup\n",
    "\n",
    "url = 'https://play.google.com/store/movies'\n",
    "\n",
    "res = requests.get(url)\n",
    "res\n",
    "\n",
    "soup = BeautifulSoup(res.text, 'html.parser')\n",
    "\n",
    "print(soup.find('div', attrs = {'class': 'Epkrse'}),\n",
    "soup.find('span',attrs = {'class':'VfPpfd VixbEe'}))"
   ]
  },
  {
   "cell_type": "code",
   "execution_count": 25,
   "id": "5dde74ef",
   "metadata": {},
   "outputs": [],
   "source": [
    "import requests\n",
    "from bs4 import BeautifulSoup\n",
    "\n",
    "url = 'https://play.google.com/store/movies'\n",
    "headers = {'User-Agent':'Mozilla/5.0 (Windows NT 10.0; Win64; x64) AppleWebKit/537.36 (KHTML, like Gecko) Chrome/114.0.0.0 Safari/537.36',\n",
    "           'Accept-Language' : 'ko-KR,ko'\n",
    "}\n",
    "\n",
    "res = requests.get(url, headers = headers)\n",
    "res\n",
    "\n",
    "soup = BeautifulSoup(res.text, 'html.parser')\n"
   ]
  },
  {
   "cell_type": "code",
   "execution_count": 26,
   "id": "8eeeb692",
   "metadata": {},
   "outputs": [
    {
     "name": "stdout",
     "output_type": "stream",
     "text": [
      "<div class=\"Epkrse\">존 윅 4</div> <span class=\"VfPpfd VixbEe\"><span>₩11,000</span></span>\n"
     ]
    }
   ],
   "source": [
    "print(soup.find('div', attrs = {'class': 'Epkrse'}),\n",
    "soup.find('span',attrs = {'class':'VfPpfd VixbEe'}))"
   ]
  },
  {
   "cell_type": "code",
   "execution_count": 29,
   "id": "c46acf8a",
   "metadata": {},
   "outputs": [
    {
     "name": "stdout",
     "output_type": "stream",
     "text": [
      "존 윅 4\n",
      "타르\n",
      "슬픔의 삼각형\n",
      "렌필드\n",
      "스푸트닉\n",
      "어바웃 체리\n",
      "언노운 솔저\n",
      "260: 부코바르 대학살\n",
      "블랙 워터: 어비스\n",
      "라이드 온\n",
      "오르가즘 다이어리 : 브릴리언트 러브\n",
      "에이티 포 브래디\n",
      "휴매니티 뷰로우: 인류관리국\n",
      "벼랑 끝에서\n",
      "신의 나라\n",
      "레이더스 : 황금도서관의 비밀\n",
      "황야의 무법자\n",
      "드래곤 파이터 2015\n",
      "함정\n",
      "미인의 만찬\n",
      "스파이더맨 : 뉴 유니버스\n",
      "가디언즈 오브 갤럭시: Volume 3\n",
      "던전 앤 드래곤: 도적들의 명예\n",
      "잭 스나이더의 저스티스 리그\n",
      "탑건 매버릭\n",
      "아바타: 물의 길\n",
      "존 윅 4\n",
      "엑소시스트: 더 바티칸  Pope's Exorcist, The\n",
      "범죄도시\n",
      "범죄도시 2\n",
      "타르\n",
      "65\n",
      "렌필드\n",
      "해리포터와 마법사의 돌\n",
      "타이타닉\n",
      "슬픔의 삼각형\n",
      "스파이더맨: 노 웨이 홈 Spider-Man: No Way Home\n",
      "존 윅\n",
      "더 수어사이드 스쿼드\n",
      "블랙 아담\n",
      "언노운 솔저\n",
      "260: 부코바르 대학살\n",
      "블랙 워터: 어비스\n",
      "라이드 온\n",
      "휴매니티 뷰로우: 인류관리국\n",
      "벼랑 끝에서\n",
      "존 윅 4\n",
      "타르\n",
      "슬픔의 삼각형\n",
      "스푸트닉\n",
      "렌필드\n",
      "함정\n",
      "에이티 포 브래디\n",
      "추적자\n",
      "미인의 만찬\n",
      "레이더스 : 황금도서관의 비밀\n",
      "엽문의 시작\n",
      "황비홍 vs 소걸아\n",
      "스프린터\n",
      "우아한 욕망\n"
     ]
    }
   ],
   "source": [
    "movies = soup.find_all('div', attrs={'class':'Epkrse'})\n",
    "for m in movies:\n",
    "    print(m.text)"
   ]
  },
  {
   "cell_type": "code",
   "execution_count": null,
   "id": "0f851968",
   "metadata": {},
   "outputs": [],
   "source": []
  }
 ],
 "metadata": {
  "kernelspec": {
   "display_name": "Python 3 (ipykernel)",
   "language": "python",
   "name": "python3"
  },
  "language_info": {
   "codemirror_mode": {
    "name": "ipython",
    "version": 3
   },
   "file_extension": ".py",
   "mimetype": "text/x-python",
   "name": "python",
   "nbconvert_exporter": "python",
   "pygments_lexer": "ipython3",
   "version": "3.10.5"
  }
 },
 "nbformat": 4,
 "nbformat_minor": 5
}
