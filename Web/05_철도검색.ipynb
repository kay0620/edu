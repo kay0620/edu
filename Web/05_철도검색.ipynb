{
 "cells": [
  {
   "cell_type": "markdown",
   "id": "96b9bb59",
   "metadata": {},
   "source": [
    "# 철도 검색\n",
    "\n",
    "ktx 사이트에서 철도 검색"
   ]
  },
  {
   "cell_type": "code",
   "execution_count": null,
   "id": "cab09a80",
   "metadata": {},
   "outputs": [],
   "source": [
    "from selenium import webdriver\n",
    "from selenium.webdriver.common.by import By\n",
    "\n",
    "driver = webdriver.Chrome()\n",
    "\n",
    "driver.get('https://www.letskorail.com/ebizprd/EbizPrdTicketpr21100W_pr21110.do')\n",
    "\n",
    "driver.implicitly_wait(10)"
   ]
  },
  {
   "cell_type": "code",
   "execution_count": 5,
   "id": "f884ee1d",
   "metadata": {},
   "outputs": [],
   "source": [
    "start = driver.find_element(By.ID, 'start')\n",
    "start.clear()\n",
    "start.send_keys('부산')"
   ]
  },
  {
   "cell_type": "code",
   "execution_count": 6,
   "id": "2e050b96",
   "metadata": {},
   "outputs": [],
   "source": [
    "arrive = driver.find_element(By.ID, 'get')\n",
    "arrive.clear()\n",
    "arrive.send_keys('서울')"
   ]
  },
  {
   "cell_type": "code",
   "execution_count": 7,
   "id": "ea96f4e4",
   "metadata": {},
   "outputs": [],
   "source": [
    "search = driver.find_element(By.XPATH, '//*[@id=\"center\"]/div[3]/p/a/img')\n",
    "search.click()"
   ]
  },
  {
   "cell_type": "code",
   "execution_count": null,
   "id": "9b1dab2c",
   "metadata": {},
   "outputs": [],
   "source": [
    "//*[@id=\"tableResult\"]/tbody/tr[1]\n",
    "//*[@id=\"tableResult\"]/tbody/tr[2]"
   ]
  },
  {
   "cell_type": "code",
   "execution_count": 8,
   "id": "0fbabe65",
   "metadata": {},
   "outputs": [
    {
     "data": {
      "text/plain": [
       "'직통 KTX\\n032 부산\\n12:30 서울\\n15:14 -\\n59,800원\\n(5% 적립)\\n- - 02:44'"
      ]
     },
     "execution_count": 8,
     "metadata": {},
     "output_type": "execute_result"
    }
   ],
   "source": [
    "elem = driver.find_element(By.XPATH, '//*[@id=\"tableResult\"]/tbody/tr[1]')\n",
    "elem.text"
   ]
  },
  {
   "cell_type": "code",
   "execution_count": 11,
   "id": "345d039e",
   "metadata": {
    "scrolled": true
   },
   "outputs": [
    {
     "name": "stdout",
     "output_type": "stream",
     "text": [
      "1 직통 KTX032 부산12:30 서울15:14 -59,800원(5% 적립)- - 02:44\n",
      "2 직통 1216 부산12:42 서울18:19 - -28,600원- - 05:37\n",
      "3 직통 KTX034 부산13:10 서울15:48 -59,800원(5% 적립)- - 02:38\n",
      "4 직통 1008 부산13:23 서울18:08 - -42,600원- - 04:45\n",
      "5 직통 KTX124 부산13:25 서울16:34 -48,800원(5% 적립)- 03:09\n",
      "6 직통 KTX106 부산13:29 서울16:41 -53,900원(5% 적립)-03:12\n",
      "7 직통 KTX090 부산13:30 서울16:07 -59,800원(5% 적립)- - 02:37\n",
      "8 직통 1218 부산13:37 서울19:22 - -28,600원- - 05:45\n",
      "9 직통 KTX036 부산14:00 서울16:45 -59,800원(5% 적립)- - 02:45\n",
      "10 직통 KTX038 부산14:20 서울16:52 -59,800원(5% 적립)- - 02:32\n"
     ]
    }
   ],
   "source": [
    "# //*[@id=\"tableResult\"]/tbody/tr[10]\n",
    "\n",
    "for i in range(1, 11):\n",
    "    elem = driver.find_element(By.XPATH, '//*[@id=\"tableResult\"]/tbody/tr['+str(i)+']')\n",
    "    print(i, elem.text.replace('\\n',''))"
   ]
  },
  {
   "cell_type": "code",
   "execution_count": null,
   "id": "8d48027f",
   "metadata": {},
   "outputs": [],
   "source": [
    "from selenium.webdriver.support.ui import Select\n",
    "\n",
    "driver.find_element(By.ID, 's_month')\n",
    "select = Select()\n",
    "select.select_by_value('07')"
   ]
  },
  {
   "cell_type": "code",
   "execution_count": null,
   "id": "1d6505b0",
   "metadata": {},
   "outputs": [],
   "source": []
  }
 ],
 "metadata": {
  "kernelspec": {
   "display_name": "Python 3 (ipykernel)",
   "language": "python",
   "name": "python3"
  },
  "language_info": {
   "codemirror_mode": {
    "name": "ipython",
    "version": 3
   },
   "file_extension": ".py",
   "mimetype": "text/x-python",
   "name": "python",
   "nbconvert_exporter": "python",
   "pygments_lexer": "ipython3",
   "version": "3.10.5"
  }
 },
 "nbformat": 4,
 "nbformat_minor": 5
}
