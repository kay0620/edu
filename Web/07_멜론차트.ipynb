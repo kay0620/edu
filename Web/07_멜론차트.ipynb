{
 "cells": [
  {
   "cell_type": "markdown",
   "id": "71cb151f",
   "metadata": {},
   "source": [
    "# 멜론차트"
   ]
  },
  {
   "cell_type": "code",
   "execution_count": 2,
   "id": "53782f8f",
   "metadata": {},
   "outputs": [
    {
     "data": {
      "text/plain": [
       "<Response [200]>"
      ]
     },
     "execution_count": 2,
     "metadata": {},
     "output_type": "execute_result"
    }
   ],
   "source": [
    "import requests\n",
    "\n",
    "headers = {'User-Agent':'Mozilla/5.0 (Windows NT 10.0; Win64; x64) AppleWebKit/537.36 (KHTML, like Gecko) Chrome/114.0.0.0 Safari/537.36'}\n",
    "url = 'https://www.melon.com/chart/index.htm'\n",
    "res = requests.get(url, headers = headers)\n",
    "res"
   ]
  },
  {
   "cell_type": "code",
   "execution_count": 8,
   "id": "8324f354",
   "metadata": {},
   "outputs": [
    {
     "data": {
      "text/plain": [
       "'(여자)아이들'"
      ]
     },
     "execution_count": 8,
     "metadata": {},
     "output_type": "execute_result"
    }
   ],
   "source": [
    "from bs4 import BeautifulSoup\n",
    "\n",
    "soup = BeautifulSoup(res.text, 'html.parser')\n",
    "song = soup.select_one('#lst50')\n",
    "song.select_one('div.ellipsis.rank01>span>a').text\n",
    "song.select_one('div.ellipsis.rank02>a').text"
   ]
  },
  {
   "cell_type": "code",
   "execution_count": 9,
   "id": "59bd88fc",
   "metadata": {},
   "outputs": [
    {
     "data": {
      "text/plain": [
       "50"
      ]
     },
     "execution_count": 9,
     "metadata": {},
     "output_type": "execute_result"
    }
   ],
   "source": [
    "songs = soup.select('#lst50')\n",
    "len(songs)"
   ]
  },
  {
   "cell_type": "code",
   "execution_count": 14,
   "id": "c06a2e02",
   "metadata": {},
   "outputs": [
    {
     "name": "stdout",
     "output_type": "stream",
     "text": [
      "1 . 퀸카 (Queencard) - (여자)아이들\n",
      "2 . I AM - IVE (아이브)\n",
      "3 . Spicy - aespa\n",
      "4 . 이브, 프시케 그리고 푸른 수염의 아내 - LE SSERAFIM (르세라핌)\n",
      "5 . UNFORGIVEN (feat. Nile Rodgers) - LE SSERAFIM (르세라핌)\n",
      "6 . Kitsch - IVE (아이브)\n",
      "7 . 사랑은 늘 도망가 - 임영웅\n",
      "8 . 모래 알갱이 - 임영웅\n",
      "9 . 우리들의 블루스 - 임영웅\n",
      "10 . 헤어지자 말해요 - 박재정\n",
      "11 . Hype boy - NewJeans\n",
      "12 . 다시 만날 수 있을까 - 임영웅\n",
      "13 . 꽃 - 지수 (JISOO)\n",
      "14 . 무지개 - 임영웅\n",
      "15 . 손오공 - 세븐틴 (SEVENTEEN)\n",
      "16 . London Boy - 임영웅\n",
      "17 . 이제 나만 믿어요 - 임영웅\n",
      "18 . Polaroid - 임영웅\n",
      "19 . 아버지 - 임영웅\n",
      "20 . Ditto - NewJeans\n",
      "21 . 인생찬가 - 임영웅\n",
      "22 . A bientot - 임영웅\n",
      "23 . 손이 참 곱던 그대 - 임영웅\n",
      "24 . Cupid - FIFTY FIFTY\n",
      "25 . 사랑해 진짜 - 임영웅\n",
      "26 . 연애편지 - 임영웅\n",
      "27 . 보금자리 - 임영웅\n",
      "28 . Allergy - (여자)아이들\n",
      "29 . OMG - NewJeans\n",
      "30 . Candy - NCT DREAM\n",
      "31 . 사건의 지평선 - 윤하 (YOUNHA)\n",
      "32 . 파이팅 해야지 (Feat. 이영지) - 부석순 (SEVENTEEN)\n",
      "33 . I Don't Think That I Like Her - Charlie Puth\n",
      "34 . Dangerously - Charlie Puth\n",
      "35 . 물론 - 허각\n",
      "36 . After LIKE - IVE (아이브)\n",
      "37 . Dynamite - 방탄소년단\n",
      "38 . Broken Melodies - NCT DREAM\n",
      "39 . Take Two - 방탄소년단\n",
      "40 . 심(心) - DK(디셈버)\n",
      "41 . LOVE DIVE - IVE (아이브)\n",
      "42 . Teddy Bear - STAYC(스테이씨)\n",
      "43 . Attention - NewJeans\n",
      "44 . 사랑..그게 뭔데 - 지아\n",
      "45 . 사랑하지 않아서 그랬어 - 임한별\n",
      "46 . 잠깐 시간 될까 - 이무진\n",
      "47 . 나에게 그대만이 - 탑현\n",
      "48 . 사람 Pt.2 (feat. 아이유) - Agust D\n",
      "49 . Butter - 방탄소년단\n",
      "50 . Like Crazy - 지민\n"
     ]
    }
   ],
   "source": [
    "for i,song in enumerate(songs):\n",
    "\n",
    "    title = song.select_one('div.ellipsis.rank01>span>a').text\n",
    "    singer = song.select_one('div.ellipsis.rank02>a').text\n",
    "    print(i+1, '.', title, '-', singer)"
   ]
  },
  {
   "cell_type": "code",
   "execution_count": 15,
   "id": "d4fd953b",
   "metadata": {},
   "outputs": [
    {
     "data": {
      "text/plain": [
       "50"
      ]
     },
     "execution_count": 15,
     "metadata": {},
     "output_type": "execute_result"
    }
   ],
   "source": [
    "songs100 = soup.select('#lst100')\n",
    "len(songs100)"
   ]
  },
  {
   "cell_type": "code",
   "execution_count": 17,
   "id": "6253e8a9",
   "metadata": {},
   "outputs": [
    {
     "name": "stdout",
     "output_type": "stream",
     "text": [
      "51 . ANTIFRAGILE - LE SSERAFIM (르세라핌)\n",
      "52 . Heaven(2023) - 임재현\n",
      "53 . 봄날 - 방탄소년단\n",
      "54 . 사실말야내가말야그게그러니까말이야 - 케이시 (Kassy)\n",
      "55 . NIGHT DANCER - imase\n",
      "56 . 찬란한 하루 - 멜로망스\n",
      "57 . 빛이 나는 너에게 - 던 (DAWN)\n",
      "58 . The Planet - 방탄소년단\n",
      "59 . 사랑인가 봐 - 멜로망스\n",
      "60 . Permission to Dance - 방탄소년단\n",
      "61 . Angel Pt. 1 (Feat. Kodak Black, NLE Choppa, JVKE, Muni Long) - Fast & Furious: The Fast Saga\n",
      "62 . 너의 모든 순간 - 성시경\n",
      "63 . 첫 키스에 내 심장은 120BPM - 경서\n",
      "64 . Dreamers [Music from the FIFA World Cup Qatar 2022 Official Soundtrack] (Feat. FIFA Sound) - 정국\n",
      "65 . 건물 사이에 피어난 장미 (Rose Blossom) - H1-KEY (하이키)\n",
      "66 . 사랑의 바보 - 제이세라\n",
      "67 . Thirsty - aespa\n",
      "68 . 사랑하지 않아서 그랬니 - 지아\n",
      "69 . That's Hilarious - Charlie Puth\n",
      "70 . KNOCK - 이채연\n",
      "71 . LOCKDOWN - 이세계아이돌\n",
      "72 . 그중에 그대를 만나 - 김호중\n",
      "73 . 부동의 첫사랑 - 10CM\n",
      "74 . STAY - The Kid LAROI\n",
      "75 . on the street (with J. Cole) - j-hope\n",
      "76 . 한사람만 (2023) (여름날 우리 X 이홍기 (FT아일랜드)) - 이홍기 (FT아일랜드)\n",
      "77 . TOMBOY - (여자)아이들\n",
      "78 . Nxde - (여자)아이들\n",
      "79 . 안녕이라고 말하지마 - V.O.S\n",
      "80 . That’s Not How This Works (feat. Dan + Shay) - Charlie Puth\n",
      "81 . 나의 바람 (Wind And Wish) - 비투비\n",
      "82 . 해요 (2022) - #안녕\n",
      "83 . 한강에서 (Feat. BIG Naughty) - 폴킴\n",
      "84 . 취중고백 - 김민석 (멜로망스)\n",
      "85 . CHRISTIAN - Zior Park\n",
      "86 . FRIEND THE END - 볼빨간사춘기\n",
      "87 . 사랑하기 싫어 - 지아\n",
      "88 . Monologue - 테이\n",
      "89 . 그라데이션 - 10CM\n",
      "90 . Love Me Like This - NMIXX\n",
      "91 . 다정히 내 이름을 부르면 - 경서예지\n",
      "92 . 당신을 만나 - 김호중\n",
      "93 . ELEVEN - IVE (아이브)\n",
      "94 . 맛 (Hot Sauce) - NCT DREAM\n",
      "95 . 정이라고 하자 (Feat. 10CM) - BIG Naughty (서동현)\n",
      "96 . 나의 목소리로 - 김호중\n",
      "97 . FEARLESS - LE SSERAFIM (르세라핌)\n",
      "98 . 내가 아니라도 - 주호\n",
      "99 . 비가 내리는 밤이면 - 경서 (경서예지)\n",
      "100 . Shut Down - BLACKPINK\n"
     ]
    }
   ],
   "source": [
    "for i,song in enumerate(songs100):\n",
    "\n",
    "    title = song.select_one('div.ellipsis.rank01>span>a').text\n",
    "    singer = song.select_one('div.ellipsis.rank02>a').text\n",
    "    print(i+51, '.', title, '-', singer)"
   ]
  },
  {
   "cell_type": "code",
   "execution_count": null,
   "id": "d133f9d2",
   "metadata": {},
   "outputs": [],
   "source": []
  },
  {
   "cell_type": "code",
   "execution_count": null,
   "id": "96193bc2",
   "metadata": {},
   "outputs": [],
   "source": []
  },
  {
   "cell_type": "code",
   "execution_count": null,
   "id": "1da03377",
   "metadata": {},
   "outputs": [],
   "source": []
  }
 ],
 "metadata": {
  "kernelspec": {
   "display_name": "Python 3 (ipykernel)",
   "language": "python",
   "name": "python3"
  },
  "language_info": {
   "codemirror_mode": {
    "name": "ipython",
    "version": 3
   },
   "file_extension": ".py",
   "mimetype": "text/x-python",
   "name": "python",
   "nbconvert_exporter": "python",
   "pygments_lexer": "ipython3",
   "version": "3.10.5"
  }
 },
 "nbformat": 4,
 "nbformat_minor": 5
}
