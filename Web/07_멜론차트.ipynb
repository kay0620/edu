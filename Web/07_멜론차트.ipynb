{
 "cells": [
  {
   "cell_type": "markdown",
   "id": "ed91c8e4",
   "metadata": {},
   "source": [
    "# 실습\n",
    "\n",
    "## 멜론 차트 가져오기\n",
    "\n"
   ]
  },
  {
   "cell_type": "code",
   "execution_count": 1,
   "id": "3bb03c7f",
   "metadata": {},
   "outputs": [
    {
     "data": {
      "text/plain": [
       "<Response [406]>"
      ]
     },
     "execution_count": 1,
     "metadata": {},
     "output_type": "execute_result"
    }
   ],
   "source": [
    "from bs4 import BeautifulSoup\n",
    "import requests\n",
    "\n",
    "#멜론 > 멜론차트 \n",
    "url = 'https://www.melon.com/chart/index.htm'\n",
    "res = requests.get(url)\n",
    "res\n",
    "\n",
    "# HTTP 406 Client Error는 웹 서버가 요청한 리소스를 클라이언트가 받아들일 수 없음을 나타내는 상태 코드입니다.\n",
    "# 이 오류는 클라이언트의 요청 헤더와 서버의 응답 헤더 간에 호환되지 않는 문제가 있을 때 발생할 수 있습니다."
   ]
  },
  {
   "cell_type": "code",
   "execution_count": 2,
   "id": "b0843493",
   "metadata": {},
   "outputs": [
    {
     "name": "stdout",
     "output_type": "stream",
     "text": [
      "<title>멜론차트&gt;TOP100&gt;멜론</title>\n",
      "멜론차트>TOP100>멜론\n"
     ]
    }
   ],
   "source": [
    "from bs4 import BeautifulSoup\n",
    "import requests\n",
    "\n",
    "#-------------------------------------------------\n",
    "# url = \"크롤링하려는 웹페이지의 주소\"\n",
    "# response = requests.get(url)\n",
    "# soup = BeautifulSoup(response.content,\"html.parser\")\n",
    "#-------------------------------------------------\n",
    "\n",
    "url = 'https://www.melon.com/chart/index.htm'\n",
    "# User-Agent 헤더 설정\n",
    "headers = {\n",
    "    \"User-Agent\": \"Mozilla/5.0 (Windows NT 10.0; Win64; x64) AppleWebKit/537.36 (KHTML, like Gecko) Chrome/114.0.0.0 Whale/3.21.192.18 Safari/537.36\"\n",
    "}\n",
    "res = requests.get(url, headers = headers)\n",
    "res.raise_for_status() #문제가 생기면 프로그램 종료\n",
    "\n",
    "#우리가 가져온 html 파일을 lxml\n",
    "soup = BeautifulSoup(res.text, 'html.parser')\n",
    "\n",
    "print(soup.title)\n",
    "print(soup.title.get_text())\n",
    "\n",
    "\n",
    "\n"
   ]
  },
  {
   "cell_type": "code",
   "execution_count": null,
   "id": "0b9e3e07",
   "metadata": {},
   "outputs": [],
   "source": [
    "# from selenium import webdriver\n",
    "# driver = webdriver.Chrome('./chromedriver.exe')\n",
    "\n",
    "# # 1. 멜론 > 차트 > 주소 복사 붙여넣기\n",
    "# driver.get('https://www.melon.com/chart/index.htm')\n",
    "\n",
    "# # 2. BeautifulSoup \n",
    "# from bs4 import BeautifulSoup\n",
    "# html = driver.page_source\n",
    "# soup = BeautifulSoup(html, 'html.parser')"
   ]
  },
  {
   "cell_type": "code",
   "execution_count": 3,
   "id": "848b07d5",
   "metadata": {
    "scrolled": true
   },
   "outputs": [
    {
     "name": "stdout",
     "output_type": "stream",
     "text": [
      "50\n",
      "<tr class=\"lst50\" data-song-no=\"36430773\" id=\"lst50\">\n",
      "<td><div class=\"wrap t_right\"><input class=\"input_check\" name=\"input_check\" title=\"퀸카 (Queencard) 곡 선택\" type=\"checkbox\" value=\"36430773\"/></div></td>\n",
      "<td><div class=\"wrap t_center\"><span class=\"rank\">1</span><span class=\"none\">위</span></div></td>\n",
      "<!-- 차트순위 추가 -->\n",
      "<td><div class=\"wrap\">\n",
      "<span class=\"rank_wrap\" title=\"순위 동일\">\n",
      "<span class=\"bullet_icons rank_static\"><span class=\"none\">순위 동일</span></span>\n",
      "<span class=\"none\">0</span>\n",
      "</span>\n",
      "</div></td>\n",
      "<td><div class=\"wrap\">\n",
      "<a class=\"image_typeAll\" href=\"javascript:melon.link.goAlbumDetail('11240232');\" title=\"I feel\">\n",
      "<img alt=\"I feel - 페이지 이동\" height=\"60\" onerror=\"WEBPOCIMG.defaultAlbumImg(this);\" src=\"https://cdnimg.melon.co.kr/cm2/album/images/112/40/232/11240232_20230509151820_500.jpg/melon/resize/120/quality/80/optimize\" width=\"60\">\n",
      "<span class=\"bg_album_frame\"></span>\n",
      "</img></a>\n",
      "</div></td>\n",
      "<td><div class=\"wrap\">\n",
      "<a class=\"btn button_icons type03 song_info\" href=\"javascript:melon.link.goSongDetail('36430773');\" title=\"퀸카 (Queencard) 곡정보\"><span class=\"none\">곡정보</span></a>\n",
      "</div></td>\n",
      "<td><div class=\"wrap\">\n",
      "<div class=\"wrap_song_info\">\n",
      "<div class=\"ellipsis rank01\"><span>\n",
      "<a href=\"javascript:melon.play.playSong('1000002721',36430773);\" title=\"퀸카 (Queencard) 재생\">퀸카 (Queencard)</a>\n",
      "</span></div><br/>\n",
      "<div class=\"ellipsis rank02\">\n",
      "<a href=\"javascript:melon.link.goArtistDetail('2137482');\" title=\"(여자)아이들 - 페이지 이동\">(여자)아이들</a><span class=\"checkEllipsis\" style=\"display:none\"><a href=\"javascript:melon.link.goArtistDetail('2137482');\" title=\"(여자)아이들 - 페이지 이동\">(여자)아이들</a></span>\n",
      "</div>\n",
      "</div>\n",
      "</div></td>\n",
      "<td><div class=\"wrap\">\n",
      "<div class=\"wrap_song_info\">\n",
      "<div class=\"ellipsis rank03\">\n",
      "<a href=\"javascript:melon.link.goAlbumDetail('11240232');\" title=\"I feel - 페이지 이동\">I feel</a>\n",
      "</div>\n",
      "</div>\n",
      "</div></td>\n",
      "<td><div class=\"wrap\">\n",
      "<button class=\"button_etc like\" data-song-menuid=\"1000002721\" data-song-no=\"36430773\" title=\"퀸카 (Queencard) 좋아요\" type=\"button\">\n",
      "<span class=\"odd_span\">좋아요</span>\n",
      "<span class=\"cnt\">\n",
      "<span class=\"none\">총건수</span>\r\n",
      "\t\t\t\t\t\t\t\t\t\t\t\t0\r\n",
      "\t\t\t\t\t\t\t\t\t\t\t</span>\n",
      "</button>\n",
      "</div></td>\n",
      "<td><div class=\"wrap t_center\">\n",
      "<button class=\"button_icons play\" onclick=\"melon.play.playSong('1000002721',36430773);\" title=\"듣기\" type=\"button\"><span class=\"none\">듣기</span></button>\n",
      "</div></td>\n",
      "<td><div class=\"wrap t_center\">\n",
      "<button class=\"button_icons scrap\" onclick=\"melon.play.addPlayList('36430773');\" title=\"담기\" type=\"button\"><span class=\"none\">담기</span></button>\n",
      "</div></td>\n",
      "<td><div class=\"wrap t_center\">\n",
      "<button class=\"button_icons download\" onclick=\"melon.buy.goBuyProduct('frm', '36430773', '3C0001', '','0', '1000002721');\" title=\"다운로드\" type=\"button\"><span class=\"none\">다운로드</span></button>\n",
      "</div></td>\n",
      "<td><div class=\"wrap t_center\">\n",
      "<button class=\"button_icons video\" onclick=\"melon.link.goMvDetail('1000002721', '36430773','song');\" title=\"뮤직비디오\" type=\"button\"><span class=\"none\">뮤직비디오</span></button>\n",
      "</div></td>\n",
      "</tr>\n"
     ]
    }
   ],
   "source": [
    "\n",
    "\n",
    "# 3. 음악 목록 가져오기\n",
    "songs = soup.select('#lst50') ##tr class = 'lst50'\n",
    "\n",
    "print(len(songs))\n",
    "print(songs[0])\n",
    "\n",
    "\n",
    "\n"
   ]
  },
  {
   "cell_type": "code",
   "execution_count": 21,
   "id": "e2710f0b",
   "metadata": {},
   "outputs": [
    {
     "name": "stdout",
     "output_type": "stream",
     "text": [
      "퀸카 (Queencard)\n"
     ]
    }
   ],
   "source": [
    "# 4. title 가져오기\n",
    "title = songs[0].select_one('div.ellipsis.rank01>span>a')\n",
    "\n",
    "# title = songs[0].select('span>a')[0].text\n",
    "print(title.text)\n",
    "\n",
    "\n"
   ]
  },
  {
   "cell_type": "code",
   "execution_count": 22,
   "id": "187858ae",
   "metadata": {},
   "outputs": [
    {
     "name": "stdout",
     "output_type": "stream",
     "text": [
      "(여자)아이들\n"
     ]
    }
   ],
   "source": [
    "# 5. 가수 이름\n",
    "# 두개의 클래스를 가지는 경우 띄어쓰기로 구분\n",
    "# ellipsis rank02\n",
    "singer = songs[0].select_one('div.ellipsis.rank02>a').text\n",
    "print(singer)\n",
    "\n"
   ]
  },
  {
   "cell_type": "code",
   "execution_count": 23,
   "id": "f872aca4",
   "metadata": {},
   "outputs": [
    {
     "name": "stdout",
     "output_type": "stream",
     "text": [
      "1 . 퀸카 (Queencard) (여자)아이들\n",
      "2 . I AM IVE (아이브)\n",
      "3 . Spicy aespa\n",
      "4 . 이브, 프시케 그리고 푸른 수염의 아내 LE SSERAFIM (르세라핌)\n",
      "5 . UNFORGIVEN (feat. Nile Rodgers) LE SSERAFIM (르세라핌)\n",
      "6 . Kitsch IVE (아이브)\n",
      "7 . Hype boy NewJeans\n",
      "8 . 사랑은 늘 도망가 임영웅\n",
      "9 . 꽃 지수 (JISOO)\n",
      "10 . 모래 알갱이 임영웅\n",
      "11 . 헤어지자 말해요 박재정\n",
      "12 . 손오공 세븐틴 (SEVENTEEN)\n",
      "13 . 우리들의 블루스 임영웅\n",
      "14 . Ditto NewJeans\n",
      "15 . 다시 만날 수 있을까 임영웅\n",
      "16 . Cupid FIFTY FIFTY\n",
      "17 . 무지개 임영웅\n",
      "18 . 이제 나만 믿어요 임영웅\n",
      "19 . London Boy 임영웅\n",
      "20 . OMG NewJeans\n",
      "21 . Polaroid 임영웅\n",
      "22 . 아버지 임영웅\n",
      "23 . Allergy (여자)아이들\n",
      "24 . 사건의 지평선 윤하 (YOUNHA)\n",
      "25 . Candy NCT DREAM\n",
      "26 . I Don't Think That I Like Her Charlie Puth\n",
      "27 . 파이팅 해야지 (Feat. 이영지) 부석순 (SEVENTEEN)\n",
      "28 . After LIKE IVE (아이브)\n",
      "29 . 인생찬가 임영웅\n",
      "30 . Dangerously Charlie Puth\n",
      "31 . A bientot 임영웅\n",
      "32 . LOVE DIVE IVE (아이브)\n",
      "33 . 손이 참 곱던 그대 임영웅\n",
      "34 . 사랑해 진짜 임영웅\n",
      "35 . 연애편지 임영웅\n",
      "36 . Teddy Bear STAYC(스테이씨)\n",
      "37 . Attention NewJeans\n",
      "38 . Dynamite 방탄소년단\n",
      "39 . 물론 허각\n",
      "40 . 심(心) DK(디셈버)\n",
      "41 . 보금자리 임영웅\n",
      "42 . ANTIFRAGILE LE SSERAFIM (르세라핌)\n",
      "43 . 잠깐 시간 될까 이무진\n",
      "44 . Broken Melodies NCT DREAM\n",
      "45 . 사랑하지 않아서 그랬어 임한별\n",
      "46 . 사랑..그게 뭔데 지아\n",
      "47 . NIGHT DANCER imase\n",
      "48 . Butter 방탄소년단\n",
      "49 . Take Two 방탄소년단\n",
      "50 . Heaven(2023) 임재현\n"
     ]
    }
   ],
   "source": [
    "# 6. 모든 목록 출력\n",
    "for i, song in enumerate(songs):\n",
    "    title = song.select('span>a')[0].text\n",
    "    singer = song.select('div.ellipsis.rank02>a')[0].text\n",
    "    print(i+1, '.', title, singer)\n",
    "\n",
    "# driver.quit()"
   ]
  },
  {
   "cell_type": "markdown",
   "id": "f90a3eeb",
   "metadata": {},
   "source": [
    "1. 1위부터 100위까지 모두 출력하기\n",
    "1. 파일에 저장하기"
   ]
  },
  {
   "cell_type": "code",
   "execution_count": 14,
   "id": "15e7e972",
   "metadata": {},
   "outputs": [
    {
     "name": "stdout",
     "output_type": "stream",
     "text": [
      "51 . LOVE DIVE IVE (아이브)\n",
      "52 . 사랑하지 않아서 그랬어 임한별\n",
      "53 . Dreamers [Music from the FIFA World Cup Qatar 2022 Official Soundtrack] (Feat. FIFA Sound) 정국\n",
      "54 . 잠깐 시간 될까 이무진\n",
      "55 . 사랑..그게 뭔데 지아\n",
      "56 . ANTIFRAGILE LE SSERAFIM (르세라핌)\n",
      "57 . 나에게 그대만이 탑현\n",
      "58 . NIGHT DANCER imase\n",
      "59 . 맛 (Hot Sauce) NCT DREAM\n",
      "60 . Heaven(2023) 임재현\n",
      "61 . on the street (with J. Cole) j-hope\n",
      "62 . Graduation NCT DREAM\n",
      "63 . 빛이 나는 너에게 던 (DAWN)\n",
      "64 . 사실말야내가말야그게그러니까말이야 케이시 (Kassy)\n",
      "65 . Thirsty aespa\n",
      "66 . 찬란한 하루 멜로망스\n",
      "67 . 그중에 그대를 만나 김호중\n",
      "68 . 사랑인가 봐 멜로망스\n",
      "69 . 너의 모든 순간 성시경\n",
      "70 . That's Hilarious Charlie Puth\n",
      "71 . 첫 키스에 내 심장은 120BPM 경서\n",
      "72 . 건물 사이에 피어난 장미 (Rose Blossom) H1-KEY (하이키)\n",
      "73 . Tangerine Love (Favorite) NCT DREAM\n",
      "74 . KNOCK 이채연\n",
      "75 . STAY The Kid LAROI\n",
      "76 . 사랑의 바보 제이세라\n",
      "77 . TOMBOY (여자)아이들\n",
      "78 . 문 (Moon) NCT DREAM\n",
      "79 . That’s Not How This Works (feat. Dan + Shay) Charlie Puth\n",
      "80 . Nxde (여자)아이들\n",
      "81 . 발자국 (Walk With You) NCT DREAM\n",
      "82 . 부동의 첫사랑 10CM\n",
      "83 . 입김 (Take My Breath) NCT DREAM\n",
      "84 . 나의 바람 (Wind And Wish) 비투비\n",
      "85 . 해요 (2022) #안녕\n",
      "86 . 취중고백 김민석 (멜로망스)\n",
      "87 . 사랑하지 않아서 그랬니 지아\n",
      "88 . Best Friend Ever NCT DREAM\n",
      "89 . 한사람만 (2023) (여름날 우리 X 이홍기 (FT아일랜드)) 이홍기 (FT아일랜드)\n",
      "90 . Beatbox (English Ver.) NCT DREAM\n",
      "91 . 한강에서 (Feat. BIG Naughty) 폴킴\n",
      "92 . 당신을 만나 김호중\n",
      "93 . 사랑하기 싫어 지아\n",
      "94 . 안녕이라고 말하지마 V.O.S\n",
      "95 . RE : WIND 이세계아이돌\n",
      "96 . CHRISTIAN Zior Park\n",
      "97 . 그라데이션 10CM\n",
      "98 . 다정히 내 이름을 부르면 경서예지\n",
      "99 . FRIEND THE END 볼빨간사춘기\n",
      "100 . 정이라고 하자 (Feat. 10CM) BIG Naughty (서동현)\n"
     ]
    }
   ],
   "source": [
    "songs2 = soup.select('#lst100') ##tr class = 'lst50'\n",
    "\n",
    "for i, song in enumerate(songs2):\n",
    "#     print(song)\n",
    "    title = song.select('span>a')[0].text\n",
    "    singer = song.select('div.ellipsis.rank02>a')[0].text\n",
    "    print(i+51, '.', title, singer)"
   ]
  }
 ],
 "metadata": {
  "kernelspec": {
   "display_name": "Python 3 (ipykernel)",
   "language": "python",
   "name": "python3"
  },
  "language_info": {
   "codemirror_mode": {
    "name": "ipython",
    "version": 3
   },
   "file_extension": ".py",
   "mimetype": "text/x-python",
   "name": "python",
   "nbconvert_exporter": "python",
   "pygments_lexer": "ipython3",
   "version": "3.10.5"
  }
 },
 "nbformat": 4,
 "nbformat_minor": 5
}
