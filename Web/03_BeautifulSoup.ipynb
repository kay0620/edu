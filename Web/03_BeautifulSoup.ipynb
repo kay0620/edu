{
 "cells": [
  {
   "cell_type": "markdown",
   "id": "6fa92bd2",
   "metadata": {},
   "source": [
    "# Beautiful Soup\n",
    "\n",
    "- html 및 XML 문서를 파싱하고 검색하고 조작하기 위한 파이썬 라이브러리"
   ]
  },
  {
   "cell_type": "code",
   "execution_count": 1,
   "id": "2d06127b",
   "metadata": {},
   "outputs": [
    {
     "name": "stdout",
     "output_type": "stream",
     "text": [
      "Requirement already satisfied: bs4 in c:\\users\\administrator.공석\\appdata\\local\\programs\\python\\python311\\lib\\site-packages (0.0.1)\n",
      "Requirement already satisfied: beautifulsoup4 in c:\\users\\administrator.공석\\appdata\\local\\programs\\python\\python311\\lib\\site-packages (from bs4) (4.12.2)\n",
      "Requirement already satisfied: soupsieve>1.2 in c:\\users\\administrator.공석\\appdata\\local\\programs\\python\\python311\\lib\\site-packages (from beautifulsoup4->bs4) (2.4.1)\n",
      "Requirement already satisfied: lxml in c:\\users\\administrator.공석\\appdata\\local\\programs\\python\\python311\\lib\\site-packages (4.9.2)\n"
     ]
    }
   ],
   "source": [
    "!pip install bs4\n",
    "!pip install lxml"
   ]
  },
  {
   "cell_type": "code",
   "execution_count": 2,
   "id": "0de295db",
   "metadata": {},
   "outputs": [],
   "source": [
    "from bs4 import BeautifulSoup"
   ]
  },
  {
   "cell_type": "code",
   "execution_count": 3,
   "id": "02a4f377",
   "metadata": {},
   "outputs": [],
   "source": [
    "html = '''\n",
    "<html>\n",
    "<head>\n",
    "    <title>city</title>\n",
    "</head>\n",
    "<body>\n",
    "\n",
    "<div class=\"city\">\n",
    "<h2 id='london'>London</h2>\n",
    "<p>London is the capital of England.</p>\n",
    "</div> \n",
    "\n",
    "<div class=\"city\">\n",
    "<h2 id='paris'>Paris</h2>\n",
    "<p>Paris is the capital of France.</p>\n",
    "</div>\n",
    "\n",
    "<div class=\"city\">\n",
    "<h2 id='tokyo'>Tokyo</h2>\n",
    "<p>Tokyo is the capital of Japan.</p>\n",
    "</div>\n",
    "\n",
    "</body>\n",
    "</html>\n",
    "'''"
   ]
  },
  {
   "cell_type": "code",
   "execution_count": 4,
   "id": "d965d601",
   "metadata": {},
   "outputs": [],
   "source": [
    "soup = BeautifulSoup(html, 'html.parser')"
   ]
  },
  {
   "cell_type": "code",
   "execution_count": 6,
   "id": "8674694c",
   "metadata": {},
   "outputs": [
    {
     "name": "stdout",
     "output_type": "stream",
     "text": [
      "<title>city</title>\n",
      "city\n"
     ]
    }
   ],
   "source": [
    "print(soup.title)\n",
    "print(soup.title.get_text())"
   ]
  },
  {
   "cell_type": "code",
   "execution_count": 10,
   "id": "109e8163",
   "metadata": {},
   "outputs": [
    {
     "data": {
      "text/plain": [
       "['city']"
      ]
     },
     "execution_count": 10,
     "metadata": {},
     "output_type": "execute_result"
    }
   ],
   "source": [
    "soup.div.attrs #첫번째 div 태그에서 속성 \n",
    "soup.div['class'] #class 명"
   ]
  },
  {
   "cell_type": "markdown",
   "id": "94bf131d",
   "metadata": {},
   "source": [
    "## 데이터 추출\n",
    "\n",
    "- find\n",
    "- select"
   ]
  },
  {
   "cell_type": "code",
   "execution_count": 13,
   "id": "84ec667a",
   "metadata": {},
   "outputs": [
    {
     "data": {
      "text/plain": [
       "[<div class=\"city\">\n",
       " <h2 id=\"london\">London</h2>\n",
       " <p>London is the capital of England.</p>\n",
       " </div>,\n",
       " <div class=\"city\">\n",
       " <h2 id=\"paris\">Paris</h2>\n",
       " <p>Paris is the capital of France.</p>\n",
       " </div>,\n",
       " <div class=\"city\">\n",
       " <h2 id=\"tokyo\">Tokyo</h2>\n",
       " <p>Tokyo is the capital of Japan.</p>\n",
       " </div>]"
      ]
     },
     "execution_count": 13,
     "metadata": {},
     "output_type": "execute_result"
    }
   ],
   "source": [
    "soup.find('div', attrs = {'class':'city'})\n",
    "soup.find_all('div', attrs = {'class':'city'})"
   ]
  },
  {
   "cell_type": "code",
   "execution_count": 17,
   "id": "e078097d",
   "metadata": {},
   "outputs": [
    {
     "data": {
      "text/plain": [
       "[<h2 id=\"london\">London</h2>]"
      ]
     },
     "execution_count": 17,
     "metadata": {},
     "output_type": "execute_result"
    }
   ],
   "source": [
    "soup.select('div') #div 태그를 모두 찾아줌\n",
    "soup.select_one('div')\n",
    "soup.select('.city') #class가 city인 태그 찾음\n",
    "soup.select('.city>#london')"
   ]
  },
  {
   "cell_type": "code",
   "execution_count": 25,
   "id": "260445e9",
   "metadata": {},
   "outputs": [
    {
     "name": "stdout",
     "output_type": "stream",
     "text": [
      "\n",
      "Tokyo\n",
      "Tokyo is the capital of Japan.\n",
      "\n"
     ]
    }
   ],
   "source": [
    "soup.select('.city')[2]\n",
    "soup.select('.city')[2].get('class')\n",
    "print(soup.select('.city')[2].text)"
   ]
  },
  {
   "cell_type": "code",
   "execution_count": 29,
   "id": "96a718e8",
   "metadata": {},
   "outputs": [
    {
     "name": "stdout",
     "output_type": "stream",
     "text": [
      "<div class=\"city\">\n",
      "<h2 id=\"paris\">Paris</h2>\n",
      "<p>Paris is the capital of France.</p>\n",
      "</div>\n"
     ]
    }
   ],
   "source": [
    "#현재 요소의 다음 형제 요소를 선택\n",
    "city = soup.find('div')\n",
    "print(city.next_sibling.next_sibling)"
   ]
  },
  {
   "cell_type": "code",
   "execution_count": 32,
   "id": "1e6f6ac4",
   "metadata": {},
   "outputs": [
    {
     "name": "stdout",
     "output_type": "stream",
     "text": [
      "<div class=\"city\">\n",
      "<h2 id=\"london\">London</h2>\n",
      "<p>London is the capital of England.</p>\n",
      "</div>\n"
     ]
    }
   ],
   "source": [
    "city2 = city.next_sibling.next_sibling\n",
    "print(city2.previous_sibling.previous_sibling)"
   ]
  },
  {
   "cell_type": "code",
   "execution_count": 33,
   "id": "f8316f2b",
   "metadata": {},
   "outputs": [
    {
     "data": {
      "text/plain": [
       "<body>\n",
       "<div class=\"city\">\n",
       "<h2 id=\"london\">London</h2>\n",
       "<p>London is the capital of England.</p>\n",
       "</div>\n",
       "<div class=\"city\">\n",
       "<h2 id=\"paris\">Paris</h2>\n",
       "<p>Paris is the capital of France.</p>\n",
       "</div>\n",
       "<div class=\"city\">\n",
       "<h2 id=\"tokyo\">Tokyo</h2>\n",
       "<p>Tokyo is the capital of Japan.</p>\n",
       "</div>\n",
       "</body>"
      ]
     },
     "execution_count": 33,
     "metadata": {},
     "output_type": "execute_result"
    }
   ],
   "source": [
    "#city의 부모 요소 body 태그 전체\n",
    "city.parent"
   ]
  },
  {
   "cell_type": "code",
   "execution_count": 34,
   "id": "a4796fbe",
   "metadata": {},
   "outputs": [
    {
     "data": {
      "text/plain": [
       "<div class=\"city\">\n",
       "<h2 id=\"paris\">Paris</h2>\n",
       "<p>Paris is the capital of France.</p>\n",
       "</div>"
      ]
     },
     "execution_count": 34,
     "metadata": {},
     "output_type": "execute_result"
    }
   ],
   "source": [
    "#city의 다음 요소를 찾아줌 \n",
    "city.find_next_sibling() "
   ]
  },
  {
   "cell_type": "code",
   "execution_count": 37,
   "id": "74ea313b",
   "metadata": {},
   "outputs": [
    {
     "data": {
      "text/plain": [
       "'Tokyo'"
      ]
     },
     "execution_count": 37,
     "metadata": {},
     "output_type": "execute_result"
    }
   ],
   "source": [
    "#html에서 Tokyo만 추출하기\n",
    "soup.select_one('#tokyo').text"
   ]
  },
  {
   "cell_type": "code",
   "execution_count": 55,
   "id": "fab928a2",
   "metadata": {},
   "outputs": [
    {
     "name": "stdout",
     "output_type": "stream",
     "text": [
      "Google\n",
      "<div id=\"mngb\"><div id=\"gbar\"><nobr><b class=\"gb1\">검색</b> <a class=\"gb1\" href=\"https://www.google.co.kr/imghp?hl=ko&amp;tab=wi\">이미지</a> <a class=\"gb1\" href=\"http://maps.google.co.kr/maps?hl=ko&amp;tab=wl\">지도</a> <a class=\"gb1\" href=\"https://play.google.com/?hl=ko&amp;tab=w8\">Play</a> <a class=\"gb1\" href=\"https://www.youtube.com/?tab=w1\">YouTube</a> <a class=\"gb1\" href=\"https://news.google.com/?tab=wn\">뉴스</a> <a class=\"gb1\" href=\"https://mail.google.com/mail/?tab=wm\">Gmail</a> <a class=\"gb1\" href=\"https://drive.google.com/?tab=wo\">드라이브</a> <a class=\"gb1\" href=\"https://www.google.co.kr/intl/ko/about/products?tab=wh\" style=\"text-decoration:none\"><u>더보기</u> »</a></nobr></div><div id=\"guser\" width=\"100%\"><nobr><span class=\"gbi\" id=\"gbn\"></span><span class=\"gbf\" id=\"gbf\"></span><span id=\"gbe\"></span><a class=\"gb4\" href=\"http://www.google.co.kr/history/optout?hl=ko\">웹 기록</a> | <a class=\"gb4\" href=\"/preferences?hl=ko\">설정</a> | <a class=\"gb4\" href=\"https://accounts.google.com/ServiceLogin?hl=ko&amp;passive=true&amp;continue=http://www.google.co.kr/&amp;ec=GAZAAQ\" id=\"gb_70\" target=\"_top\">로그인</a></nobr></div><div class=\"gbh\" style=\"left:0\"></div><div class=\"gbh\" style=\"right:0\"></div></div>\n"
     ]
    }
   ],
   "source": [
    "import requests\n",
    "\n",
    "url = 'http://google.co.kr'\n",
    "res = requests.get(url)\n",
    "\n",
    "if res.status_code == requests.codes.ok:\n",
    "    \n",
    "    soup = BeautifulSoup(res.text, 'html.parser')\n",
    "    \n",
    "    print(soup.title.get_text()) #제목 출력\n",
    "#     print(soup.a['href'])\n",
    "    print(soup.div)\n",
    "#     print(soup.find('b', attrs = {'class':'gb1'}))"
   ]
  },
  {
   "cell_type": "code",
   "execution_count": null,
   "id": "d508df32",
   "metadata": {},
   "outputs": [],
   "source": []
  }
 ],
 "metadata": {
  "kernelspec": {
   "display_name": "Python 3 (ipykernel)",
   "language": "python",
   "name": "python3"
  },
  "language_info": {
   "codemirror_mode": {
    "name": "ipython",
    "version": 3
   },
   "file_extension": ".py",
   "mimetype": "text/x-python",
   "name": "python",
   "nbconvert_exporter": "python",
   "pygments_lexer": "ipython3",
   "version": "3.11.3"
  }
 },
 "nbformat": 4,
 "nbformat_minor": 5
}
