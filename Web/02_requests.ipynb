{
 "cells": [
  {
   "cell_type": "markdown",
   "id": "3628e545",
   "metadata": {},
   "source": [
    "# requests"
   ]
  },
  {
   "cell_type": "code",
   "execution_count": 9,
   "id": "33038df0",
   "metadata": {},
   "outputs": [
    {
     "name": "stdout",
     "output_type": "stream",
     "text": [
      "응답코드 :  200\n",
      "정상입니다\n",
      "18203\n"
     ]
    }
   ],
   "source": [
    "import requests\n",
    "\n",
    "res = requests.get('http://google.com')\n",
    "print('응답코드 : ' , res.status_code)\n",
    "\n",
    "if res.status_code == requests.codes.ok: #200\n",
    "    print('정상입니다')\n",
    "else:\n",
    "    print('문제가 생겼습니다 [에러코드 :', res.status_code, ']')\n",
    "    \n",
    "print(len(res.text))"
   ]
  },
  {
   "cell_type": "code",
   "execution_count": 10,
   "id": "a25ffb63",
   "metadata": {},
   "outputs": [],
   "source": [
    "with open('mygoogle.html', 'w', encoding = 'utf-8') as f:\n",
    "    f.write(res.text)"
   ]
  },
  {
   "cell_type": "markdown",
   "id": "5bd8f9c2",
   "metadata": {},
   "source": [
    "## 구글에서 이미지 검색해서 파일로 저장하기"
   ]
  },
  {
   "cell_type": "code",
   "execution_count": 11,
   "id": "8cfc593c",
   "metadata": {},
   "outputs": [],
   "source": [
    "url = 'https://upload.wikimedia.org/wikipedia/commons/thumb/f/f8/Python_logo_and_wordmark.svg/1280px-Python_logo_and_wordmark.svg.png'"
   ]
  },
  {
   "cell_type": "code",
   "execution_count": 12,
   "id": "cf6d2f81",
   "metadata": {},
   "outputs": [
    {
     "name": "stdout",
     "output_type": "stream",
     "text": [
      "이미지 저장 실행\n"
     ]
    }
   ],
   "source": [
    "res = requests.get(url)\n",
    "\n",
    "if res.status_code == requests.codes.ok:\n",
    "    print('이미지 저장 실행')\n",
    "    \n",
    "    #\n",
    "    with open('image.png', 'wb') as f:\n",
    "        f.write(res.content)"
   ]
  },
  {
   "cell_type": "code",
   "execution_count": null,
   "id": "28002477",
   "metadata": {},
   "outputs": [],
   "source": []
  },
  {
   "cell_type": "code",
   "execution_count": null,
   "id": "00baf8c2",
   "metadata": {},
   "outputs": [],
   "source": []
  },
  {
   "cell_type": "code",
   "execution_count": null,
   "id": "7dc7d9b4",
   "metadata": {},
   "outputs": [],
   "source": []
  },
  {
   "cell_type": "code",
   "execution_count": null,
   "id": "db1fde60",
   "metadata": {},
   "outputs": [],
   "source": []
  },
  {
   "cell_type": "code",
   "execution_count": null,
   "id": "0f9466b2",
   "metadata": {},
   "outputs": [],
   "source": []
  },
  {
   "cell_type": "code",
   "execution_count": null,
   "id": "060e3cff",
   "metadata": {},
   "outputs": [],
   "source": []
  },
  {
   "cell_type": "code",
   "execution_count": null,
   "id": "6eb97c9e",
   "metadata": {},
   "outputs": [],
   "source": []
  },
  {
   "cell_type": "code",
   "execution_count": null,
   "id": "044a7427",
   "metadata": {},
   "outputs": [],
   "source": []
  }
 ],
 "metadata": {
  "kernelspec": {
   "display_name": "Python 3 (ipykernel)",
   "language": "python",
   "name": "python3"
  },
  "language_info": {
   "codemirror_mode": {
    "name": "ipython",
    "version": 3
   },
   "file_extension": ".py",
   "mimetype": "text/x-python",
   "name": "python",
   "nbconvert_exporter": "python",
   "pygments_lexer": "ipython3",
   "version": "3.11.3"
  }
 },
 "nbformat": 4,
 "nbformat_minor": 5
}
