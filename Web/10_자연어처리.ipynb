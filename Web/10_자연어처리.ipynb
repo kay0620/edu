{
 "cells": [
  {
   "cell_type": "markdown",
   "id": "b2039e63",
   "metadata": {},
   "source": [
    "# 자연어 처리\n",
    "\n",
    "nltk"
   ]
  },
  {
   "cell_type": "markdown",
   "id": "a2d42862",
   "metadata": {},
   "source": [
    "## 설치"
   ]
  },
  {
   "cell_type": "code",
   "execution_count": null,
   "id": "9c0a83af",
   "metadata": {},
   "outputs": [],
   "source": [
    "!pip install nltk"
   ]
  },
  {
   "cell_type": "code",
   "execution_count": 5,
   "id": "38055389",
   "metadata": {},
   "outputs": [
    {
     "name": "stderr",
     "output_type": "stream",
     "text": [
      "[nltk_data] Downloading package punkt to\n",
      "[nltk_data]     C:\\Users\\a\\AppData\\Roaming\\nltk_data...\n",
      "[nltk_data]   Package punkt is already up-to-date!\n",
      "[nltk_data] Downloading package averaged_perceptron_tagger to\n",
      "[nltk_data]     C:\\Users\\a\\AppData\\Roaming\\nltk_data...\n",
      "[nltk_data]   Package averaged_perceptron_tagger is already up-to-\n",
      "[nltk_data]       date!\n",
      "[nltk_data] Downloading package stopwords to\n",
      "[nltk_data]     C:\\Users\\a\\AppData\\Roaming\\nltk_data...\n",
      "[nltk_data]   Package stopwords is already up-to-date!\n",
      "[nltk_data] Downloading package wordnet to\n",
      "[nltk_data]     C:\\Users\\a\\AppData\\Roaming\\nltk_data...\n",
      "[nltk_data]   Package wordnet is already up-to-date!\n"
     ]
    },
    {
     "data": {
      "text/plain": [
       "True"
      ]
     },
     "execution_count": 5,
     "metadata": {},
     "output_type": "execute_result"
    }
   ],
   "source": [
    "import nltk\n",
    "nltk.download('punkt') #토큰화\n",
    "nltk.download('averaged_perceptron_tagger') #품사 태깅\n",
    "nltk.download('stopwords') #불용어\n",
    "nltk.download('wordnet') #표제어 추출"
   ]
  },
  {
   "cell_type": "markdown",
   "id": "f94280b5",
   "metadata": {},
   "source": [
    "## 빈도수 구하기"
   ]
  },
  {
   "cell_type": "code",
   "execution_count": 4,
   "id": "5f874731",
   "metadata": {
    "scrolled": true
   },
   "outputs": [
    {
     "name": "stdout",
     "output_type": "stream",
     "text": [
      "[('apple', 3), ('banana', 2), ('orange', 1)]\n"
     ]
    }
   ],
   "source": [
    "from nltk import Text\n",
    "\n",
    "text_data = ['apple','orange','apple','banana','apple','banana']\n",
    "\n",
    "text = Text(text_data)\n",
    "print(text.vocab().most_common())"
   ]
  },
  {
   "cell_type": "markdown",
   "id": "0436b393",
   "metadata": {},
   "source": [
    "## 토큰화\n",
    "\n",
    "- 문장 토큰화\n",
    "- 단어 토큰화"
   ]
  },
  {
   "cell_type": "code",
   "execution_count": 7,
   "id": "99687c11",
   "metadata": {
    "scrolled": true
   },
   "outputs": [
    {
     "name": "stdout",
     "output_type": "stream",
     "text": [
      "['Hello, how are you?', \"I'm doing well.\"]\n",
      "['Hello', ',', 'how', 'are', 'you', '?', 'I', \"'m\", 'doing', 'well', '.']\n"
     ]
    }
   ],
   "source": [
    "from nltk.tokenize import sent_tokenize, word_tokenize\n",
    "\n",
    "#문장 토큰화\n",
    "text = \"Hello, how are you? I'm doing well.\"\n",
    "print(sent_tokenize(text))\n",
    "\n",
    "#단어 토큰화\n",
    "print(word_tokenize(text))"
   ]
  },
  {
   "cell_type": "markdown",
   "id": "0de904ba",
   "metadata": {},
   "source": [
    "## 품사 태깅"
   ]
  },
  {
   "cell_type": "code",
   "execution_count": 9,
   "id": "ad1b16a4",
   "metadata": {
    "scrolled": true
   },
   "outputs": [
    {
     "name": "stdout",
     "output_type": "stream",
     "text": [
      "[('I', 'PRP'), ('love', 'VBP'), ('coding', 'VBG'), ('.', '.')]\n"
     ]
    }
   ],
   "source": [
    "from nltk.tokenize import word_tokenize\n",
    "from nltk.tag import pos_tag\n",
    "\n",
    "text = 'I love coding.'\n",
    "\n",
    "words = word_tokenize(text)\n",
    "print(pos_tag(words))"
   ]
  },
  {
   "cell_type": "markdown",
   "id": "59c47f25",
   "metadata": {},
   "source": [
    "## 불용어 처리\n",
    "\n",
    "일반적으로 의미를 가지지 않거나 분석에 큰 영향을 주지 않는 단어\n",
    "(ex : a, an, the, in,등등)"
   ]
  },
  {
   "cell_type": "code",
   "execution_count": 12,
   "id": "cc945911",
   "metadata": {},
   "outputs": [],
   "source": [
    "from nltk.corpus import stopwords\n",
    "stop_words = stopwords.words('english')\n"
   ]
  },
  {
   "cell_type": "code",
   "execution_count": 10,
   "id": "992c530a",
   "metadata": {},
   "outputs": [
    {
     "name": "stdout",
     "output_type": "stream",
     "text": [
      "This 불용어 입니다\n"
     ]
    }
   ],
   "source": [
    "from nltk.tokenize import word_tokenize\n",
    "text = 'This is an example sentence demonstrationg stop word removal.'\n",
    "\n",
    "words = word_tokenize(text)\n",
    "if words[0].lower() in stop_words:\n",
    "    print(words[0], '불용어 입니다')"
   ]
  },
  {
   "cell_type": "code",
   "execution_count": 13,
   "id": "4e08ff59",
   "metadata": {},
   "outputs": [
    {
     "name": "stdout",
     "output_type": "stream",
     "text": [
      "This 는 불용어입니다\n",
      "is 는 불용어입니다\n",
      "an 는 불용어입니다\n"
     ]
    }
   ],
   "source": [
    "for w in words:\n",
    "    if w.lower() in stop_words:\n",
    "        print(w, '는 불용어입니다')"
   ]
  },
  {
   "cell_type": "code",
   "execution_count": 15,
   "id": "170a56c9",
   "metadata": {},
   "outputs": [],
   "source": [
    "add_stopwords = ['.',',','?','!',':',';']\n",
    "stop_words = stop_words + add_stopwords"
   ]
  },
  {
   "cell_type": "code",
   "execution_count": 16,
   "id": "dafda4e6",
   "metadata": {},
   "outputs": [
    {
     "data": {
      "text/plain": [
       "['example', 'sentence', 'demonstrationg', 'stop', 'word', 'removal']"
      ]
     },
     "execution_count": 16,
     "metadata": {},
     "output_type": "execute_result"
    }
   ],
   "source": [
    "#불용어 제거하고 새로운 리스트 생성\n",
    "filtered_words = []\n",
    "\n",
    "for w in words:\n",
    "    if w.lower() not in stop_words:\n",
    "        filtered_words.append(w)\n",
    "        \n",
    "filtered_words"
   ]
  },
  {
   "cell_type": "markdown",
   "id": "b908427a",
   "metadata": {},
   "source": [
    "## 한국어 처리\n",
    "\n",
    "konlpy 한국어 자연어 처리를 위한 파이썬 패키지"
   ]
  },
  {
   "cell_type": "markdown",
   "id": "c4863019",
   "metadata": {},
   "source": [
    "### 설치"
   ]
  },
  {
   "cell_type": "code",
   "execution_count": null,
   "id": "a43af434",
   "metadata": {},
   "outputs": [],
   "source": [
    "!pip install konlpy"
   ]
  },
  {
   "cell_type": "markdown",
   "id": "bf29192c",
   "metadata": {},
   "source": [
    "### 형태소 분석\n",
    "\n",
    "형태소 : 언어에서 가장 작은 의미를 가지는 단위"
   ]
  },
  {
   "cell_type": "code",
   "execution_count": 17,
   "id": "aa474d66",
   "metadata": {},
   "outputs": [
    {
     "data": {
      "text/plain": [
       "['안녕하세요', '.', '자연어', '처리', '를', '배우는', '중', '입니다', '.']"
      ]
     },
     "execution_count": 17,
     "metadata": {},
     "output_type": "execute_result"
    }
   ],
   "source": [
    "from konlpy.tag import Okt\n",
    "\n",
    "text = '안녕하세요. 자연어 처리를 배우는 중입니다.'\n",
    "\n",
    "Okt().morphs(text)"
   ]
  },
  {
   "cell_type": "code",
   "execution_count": 18,
   "id": "c36d0b53",
   "metadata": {
    "scrolled": true
   },
   "outputs": [
    {
     "data": {
      "text/plain": [
       "[('안녕하세요', 'Adjective'),\n",
       " ('.', 'Punctuation'),\n",
       " ('자연어', 'Noun'),\n",
       " ('처리', 'Noun'),\n",
       " ('를', 'Josa'),\n",
       " ('배우는', 'Verb'),\n",
       " ('중', 'Noun'),\n",
       " ('입니다', 'Adjective'),\n",
       " ('.', 'Punctuation')]"
      ]
     },
     "execution_count": 18,
     "metadata": {},
     "output_type": "execute_result"
    }
   ],
   "source": [
    "#형태소 분석\n",
    "Okt().pos(text)"
   ]
  },
  {
   "cell_type": "code",
   "execution_count": 19,
   "id": "36f8c338",
   "metadata": {},
   "outputs": [
    {
     "data": {
      "text/plain": [
       "['자연어', '처리', '중']"
      ]
     },
     "execution_count": 19,
     "metadata": {},
     "output_type": "execute_result"
    }
   ],
   "source": [
    "# 명사만 추출\n",
    "Okt().nouns(text)"
   ]
  },
  {
   "cell_type": "code",
   "execution_count": 26,
   "id": "e58bb327",
   "metadata": {},
   "outputs": [],
   "source": [
    "#단어별 빈도수 계산\n",
    "text = text + '자연어 처리는 재미있습니다.'\n",
    "nouns = Okt().nouns(text)\n",
    "\n",
    "from nltk import Text\n",
    "t = Text(nouns)\n",
    "word_freq = t.vocab().most_common()"
   ]
  },
  {
   "cell_type": "code",
   "execution_count": 22,
   "id": "947eed9f",
   "metadata": {
    "collapsed": true
   },
   "outputs": [
    {
     "name": "stderr",
     "output_type": "stream",
     "text": [
      "Duplicate key in file WindowsPath('C:/Users/a/AppData/Local/Programs/Python/Python310/lib/site-packages/matplotlib/mpl-data/matplotlibrc'), line 258 ('font.family:  NanumGothic')\n",
      "Duplicate key in file WindowsPath('C:/Users/a/AppData/Local/Programs/Python/Python310/lib/site-packages/matplotlib/mpl-data/matplotlibrc'), line 407 ('axes.unicode_minus: True  # use Unicode for the minus symbol rather than hyphen.  See')\n"
     ]
    }
   ],
   "source": [
    "import matplotlib\n",
    "matplotlib.rcParams['font.family'] = 'Malgun Gothic'\n",
    "matplotlib.rcParams['font.size'] = 15 #글자크기\n",
    "# 한글 폰트 사용 시, 마이너스 글자가 깨지는 현상을 해결\n",
    "matplotlib.rcParams['axes.unicode_minus'] = False "
   ]
  },
  {
   "cell_type": "code",
   "execution_count": 25,
   "id": "f2003a50",
   "metadata": {},
   "outputs": [
    {
     "data": {
      "image/png": "[encoded data removed]",
      "text/plain": [
       "<Figure size 432x288 with 1 Axes>"
      ]
     },
     "metadata": {
      "needs_background": "light"
     },
     "output_type": "display_data"
    }
   ],
   "source": [
    "from wordcloud import WordCloud\n",
    "import matplotlib.pyplot as plt\n",
    "\n",
    "wordcloud = WordCloud(font_path='malgun').generate(text)\n",
    "\n",
    "plt.imshow(wordcloud)\n",
    "plt.axis('off')\n",
    "plt.show()"
   ]
  },
  {
   "cell_type": "code",
   "execution_count": 30,
   "id": "5fa856e8",
   "metadata": {},
   "outputs": [
    {
     "data": {
      "text/plain": [
       "{'자연어': 4, '처리': 4, '중': 1}"
      ]
     },
     "execution_count": 30,
     "metadata": {},
     "output_type": "execute_result"
    }
   ],
   "source": [
    "# 단어 빈도수 데이터를 워드 클라우드로 생성\n",
    "word_counts = dict(word_freq)\n",
    "word_counts"
   ]
  },
  {
   "cell_type": "code",
   "execution_count": 34,
   "id": "cee34e6e",
   "metadata": {
    "scrolled": false
   },
   "outputs": [
    {
     "data": {
      "image/png": "[encoded data removed]",
      "text/plain": [
       "<Figure size 432x288 with 1 Axes>"
      ]
     },
     "metadata": {
      "needs_background": "light"
     },
     "output_type": "display_data"
    }
   ],
   "source": [
    "wordcloud = WordCloud(font_path='malgun',\n",
    "                      background_color='white',\n",
    "                      colormap = 'Reds',\n",
    "                      width = 800, height = 400\n",
    "                     ).generate_from_frequencies(word_counts)\n",
    "\n",
    "plt.imshow(wordcloud)\n",
    "plt.axis('off')\n",
    "plt.show()"
   ]
  },
  {
   "cell_type": "markdown",
   "id": "ab3ba67e",
   "metadata": {},
   "source": [
    "### 명사추출함수"
   ]
  },
  {
   "cell_type": "code",
   "execution_count": 37,
   "id": "f9f32631",
   "metadata": {},
   "outputs": [],
   "source": [
    "from konlpy.tag import Okt\n",
    "\n",
    "def get_nouns(text):\n",
    "    nouns = Okt().nouns(text) #명사만 저장\n",
    "    nouns = [word for word in nouns if len(word) > 1]\n",
    "    return nouns"
   ]
  },
  {
   "cell_type": "code",
   "execution_count": 38,
   "id": "636d8768",
   "metadata": {},
   "outputs": [
    {
     "data": {
      "text/plain": [
       "['워드',\n",
       " '클라우드',\n",
       " '텍스트',\n",
       " '데이터',\n",
       " '단어',\n",
       " '도수',\n",
       " '시각',\n",
       " '표현',\n",
       " '방법',\n",
       " '하나',\n",
       " '텍스트',\n",
       " '빈도',\n",
       " '단어',\n",
       " '크게',\n",
       " '표시',\n",
       " '시각',\n",
       " '통해',\n",
       " '단어',\n",
       " '상대',\n",
       " '중요도',\n",
       " '파악']"
      ]
     },
     "execution_count": 38,
     "metadata": {},
     "output_type": "execute_result"
    }
   ],
   "source": [
    "text = '''\n",
    "워드 클라우드는 텍스트 데이터에서 단어의 빈도수를 시각적으로\n",
    "표현하는 방법 중 하나입니다.\n",
    "텍스트에서 빈도가 높은 단어일수록 크게 표시되며, 시각화를\n",
    "통해 단어의 상대적인 중요도를 파악할 수 있습니다.\n",
    "'''\n",
    "\n",
    "get_nouns(text)"
   ]
  },
  {
   "cell_type": "code",
   "execution_count": null,
   "id": "9cd7e0f7",
   "metadata": {},
   "outputs": [],
   "source": []
  }
 ],
 "metadata": {
  "kernelspec": {
   "display_name": "Python 3 (ipykernel)",
   "language": "python",
   "name": "python3"
  },
  "language_info": {
   "codemirror_mode": {
    "name": "ipython",
    "version": 3
   },
   "file_extension": ".py",
   "mimetype": "text/x-python",
   "name": "python",
   "nbconvert_exporter": "python",
   "pygments_lexer": "ipython3",
   "version": "3.10.5"
  }
 },
 "nbformat": 4,
 "nbformat_minor": 5
}
